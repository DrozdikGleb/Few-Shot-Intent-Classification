{
  "nbformat": 4,
  "nbformat_minor": 0,
  "metadata": {
    "colab": {
      "name": "FewShot.ipynb",
      "provenance": []
    },
    "kernelspec": {
      "name": "python3",
      "display_name": "Python 3"
    },
    "accelerator": "GPU"
  },
  "cells": [
    {
      "cell_type": "code",
      "metadata": {
        "id": "j1eoTp5XNOWd"
      },
      "source": [
        "import datetime\n",
        "import time\n",
        "import os\n",
        "\n",
        "import matplotlib.pyplot as plt\n",
        "import numpy as np\n",
        "import pandas as pd\n",
        "import torch"
      ],
      "execution_count": 1,
      "outputs": []
    },
    {
      "cell_type": "code",
      "metadata": {
        "id": "nXpFDsJXlFi9",
        "outputId": "24e7a93b-7d9c-45b3-8cbf-11166c6a3c21",
        "colab": {
          "base_uri": "https://localhost:8080/"
        }
      },
      "source": [
        "!pip install transformers"
      ],
      "execution_count": 2,
      "outputs": [
        {
          "output_type": "stream",
          "text": [
            "Collecting transformers\n",
            "\u001b[?25l  Downloading https://files.pythonhosted.org/packages/3a/83/e74092e7f24a08d751aa59b37a9fc572b2e4af3918cb66f7766c3affb1b4/transformers-3.5.1-py3-none-any.whl (1.3MB)\n",
            "\u001b[K     |████████████████████████████████| 1.3MB 13.1MB/s \n",
            "\u001b[?25hCollecting sacremoses\n",
            "\u001b[?25l  Downloading https://files.pythonhosted.org/packages/7d/34/09d19aff26edcc8eb2a01bed8e98f13a1537005d31e95233fd48216eed10/sacremoses-0.0.43.tar.gz (883kB)\n",
            "\u001b[K     |████████████████████████████████| 890kB 58.4MB/s \n",
            "\u001b[?25hRequirement already satisfied: dataclasses; python_version < \"3.7\" in /usr/local/lib/python3.6/dist-packages (from transformers) (0.7)\n",
            "Requirement already satisfied: numpy in /usr/local/lib/python3.6/dist-packages (from transformers) (1.18.5)\n",
            "Requirement already satisfied: tqdm>=4.27 in /usr/local/lib/python3.6/dist-packages (from transformers) (4.41.1)\n",
            "Requirement already satisfied: requests in /usr/local/lib/python3.6/dist-packages (from transformers) (2.23.0)\n",
            "Collecting tokenizers==0.9.3\n",
            "\u001b[?25l  Downloading https://files.pythonhosted.org/packages/4c/34/b39eb9994bc3c999270b69c9eea40ecc6f0e97991dba28282b9fd32d44ee/tokenizers-0.9.3-cp36-cp36m-manylinux1_x86_64.whl (2.9MB)\n",
            "\u001b[K     |████████████████████████████████| 2.9MB 50.3MB/s \n",
            "\u001b[?25hCollecting sentencepiece==0.1.91\n",
            "\u001b[?25l  Downloading https://files.pythonhosted.org/packages/d4/a4/d0a884c4300004a78cca907a6ff9a5e9fe4f090f5d95ab341c53d28cbc58/sentencepiece-0.1.91-cp36-cp36m-manylinux1_x86_64.whl (1.1MB)\n",
            "\u001b[K     |████████████████████████████████| 1.1MB 48.8MB/s \n",
            "\u001b[?25hRequirement already satisfied: regex!=2019.12.17 in /usr/local/lib/python3.6/dist-packages (from transformers) (2019.12.20)\n",
            "Requirement already satisfied: protobuf in /usr/local/lib/python3.6/dist-packages (from transformers) (3.12.4)\n",
            "Requirement already satisfied: packaging in /usr/local/lib/python3.6/dist-packages (from transformers) (20.4)\n",
            "Requirement already satisfied: filelock in /usr/local/lib/python3.6/dist-packages (from transformers) (3.0.12)\n",
            "Requirement already satisfied: six in /usr/local/lib/python3.6/dist-packages (from sacremoses->transformers) (1.15.0)\n",
            "Requirement already satisfied: click in /usr/local/lib/python3.6/dist-packages (from sacremoses->transformers) (7.1.2)\n",
            "Requirement already satisfied: joblib in /usr/local/lib/python3.6/dist-packages (from sacremoses->transformers) (0.17.0)\n",
            "Requirement already satisfied: certifi>=2017.4.17 in /usr/local/lib/python3.6/dist-packages (from requests->transformers) (2020.6.20)\n",
            "Requirement already satisfied: urllib3!=1.25.0,!=1.25.1,<1.26,>=1.21.1 in /usr/local/lib/python3.6/dist-packages (from requests->transformers) (1.24.3)\n",
            "Requirement already satisfied: chardet<4,>=3.0.2 in /usr/local/lib/python3.6/dist-packages (from requests->transformers) (3.0.4)\n",
            "Requirement already satisfied: idna<3,>=2.5 in /usr/local/lib/python3.6/dist-packages (from requests->transformers) (2.10)\n",
            "Requirement already satisfied: setuptools in /usr/local/lib/python3.6/dist-packages (from protobuf->transformers) (50.3.2)\n",
            "Requirement already satisfied: pyparsing>=2.0.2 in /usr/local/lib/python3.6/dist-packages (from packaging->transformers) (2.4.7)\n",
            "Building wheels for collected packages: sacremoses\n",
            "  Building wheel for sacremoses (setup.py) ... \u001b[?25l\u001b[?25hdone\n",
            "  Created wheel for sacremoses: filename=sacremoses-0.0.43-cp36-none-any.whl size=893257 sha256=542da2330482bed4f889a6d8c7720212d8fda75fc19540c132d231812c1942af\n",
            "  Stored in directory: /root/.cache/pip/wheels/29/3c/fd/7ce5c3f0666dab31a50123635e6fb5e19ceb42ce38d4e58f45\n",
            "Successfully built sacremoses\n",
            "Installing collected packages: sacremoses, tokenizers, sentencepiece, transformers\n",
            "Successfully installed sacremoses-0.0.43 sentencepiece-0.1.91 tokenizers-0.9.3 transformers-3.5.1\n"
          ],
          "name": "stdout"
        }
      ]
    },
    {
      "cell_type": "code",
      "metadata": {
        "id": "oqyoVk7fhODr",
        "outputId": "4bcdf16b-0b6e-4e2c-8392-556c10eb8fe1",
        "colab": {
          "base_uri": "https://localhost:8080/"
        }
      },
      "source": [
        "if torch.cuda.is_available():    \n",
        "    device = torch.device(\"cuda\")\n",
        "    print('There are %d GPU(s) available.' % torch.cuda.device_count())\n",
        "\n",
        "    print('We will use the GPU:', torch.cuda.get_device_name(0))\n",
        "\n",
        "else:\n",
        "    print('No GPU available, using the CPU instead.')\n",
        "    device = torch.device(\"cpu\")"
      ],
      "execution_count": 3,
      "outputs": [
        {
          "output_type": "stream",
          "text": [
            "There are 1 GPU(s) available.\n",
            "We will use the GPU: Tesla T4\n"
          ],
          "name": "stdout"
        }
      ]
    },
    {
      "cell_type": "code",
      "metadata": {
        "id": "0irViGQdXWDB"
      },
      "source": [
        "#df = pd.read_csv('./atis_intents.csv', delimiter=',', header=None)\n",
        "df_train = pd.read_csv('./atis_intents_train.csv', delimiter=',', header=None)\n",
        "df_test = pd.read_csv('./atis_intents_test.csv', delimiter=',', header=None)\n",
        "#df.columns = ['class', 'message']\n",
        "df_train.columns = ['class', 'message']\n",
        "df_test.columns = ['class', 'message']"
      ],
      "execution_count": 4,
      "outputs": []
    },
    {
      "cell_type": "code",
      "metadata": {
        "id": "0r5tAIzaXiiP",
        "outputId": "0521e093-90c7-4e3b-f0df-e7fd6df60294",
        "colab": {
          "base_uri": "https://localhost:8080/",
          "height": 328
        }
      },
      "source": [
        "df_train.groupby(\"class\").count()"
      ],
      "execution_count": 5,
      "outputs": [
        {
          "output_type": "execute_result",
          "data": {
            "text/html": [
              "<div>\n",
              "<style scoped>\n",
              "    .dataframe tbody tr th:only-of-type {\n",
              "        vertical-align: middle;\n",
              "    }\n",
              "\n",
              "    .dataframe tbody tr th {\n",
              "        vertical-align: top;\n",
              "    }\n",
              "\n",
              "    .dataframe thead th {\n",
              "        text-align: right;\n",
              "    }\n",
              "</style>\n",
              "<table border=\"1\" class=\"dataframe\">\n",
              "  <thead>\n",
              "    <tr style=\"text-align: right;\">\n",
              "      <th></th>\n",
              "      <th>message</th>\n",
              "    </tr>\n",
              "    <tr>\n",
              "      <th>class</th>\n",
              "      <th></th>\n",
              "    </tr>\n",
              "  </thead>\n",
              "  <tbody>\n",
              "    <tr>\n",
              "      <th>atis_abbreviation</th>\n",
              "      <td>147</td>\n",
              "    </tr>\n",
              "    <tr>\n",
              "      <th>atis_aircraft</th>\n",
              "      <td>81</td>\n",
              "    </tr>\n",
              "    <tr>\n",
              "      <th>atis_airfare</th>\n",
              "      <td>423</td>\n",
              "    </tr>\n",
              "    <tr>\n",
              "      <th>atis_airline</th>\n",
              "      <td>157</td>\n",
              "    </tr>\n",
              "    <tr>\n",
              "      <th>atis_flight</th>\n",
              "      <td>3666</td>\n",
              "    </tr>\n",
              "    <tr>\n",
              "      <th>atis_flight_time</th>\n",
              "      <td>54</td>\n",
              "    </tr>\n",
              "    <tr>\n",
              "      <th>atis_ground_service</th>\n",
              "      <td>255</td>\n",
              "    </tr>\n",
              "    <tr>\n",
              "      <th>atis_quantity</th>\n",
              "      <td>51</td>\n",
              "    </tr>\n",
              "  </tbody>\n",
              "</table>\n",
              "</div>"
            ],
            "text/plain": [
              "                     message\n",
              "class                       \n",
              "atis_abbreviation        147\n",
              "atis_aircraft             81\n",
              "atis_airfare             423\n",
              "atis_airline             157\n",
              "atis_flight             3666\n",
              "atis_flight_time          54\n",
              "atis_ground_service      255\n",
              "atis_quantity             51"
            ]
          },
          "metadata": {
            "tags": []
          },
          "execution_count": 5
        }
      ]
    },
    {
      "cell_type": "code",
      "metadata": {
        "id": "SZ0TuQadYB8Y",
        "outputId": "1227daf3-1b2d-470b-9095-0ca202377044",
        "colab": {
          "base_uri": "https://localhost:8080/",
          "height": 328
        }
      },
      "source": [
        "df_test.groupby(\"class\").count()"
      ],
      "execution_count": 6,
      "outputs": [
        {
          "output_type": "execute_result",
          "data": {
            "text/html": [
              "<div>\n",
              "<style scoped>\n",
              "    .dataframe tbody tr th:only-of-type {\n",
              "        vertical-align: middle;\n",
              "    }\n",
              "\n",
              "    .dataframe tbody tr th {\n",
              "        vertical-align: top;\n",
              "    }\n",
              "\n",
              "    .dataframe thead th {\n",
              "        text-align: right;\n",
              "    }\n",
              "</style>\n",
              "<table border=\"1\" class=\"dataframe\">\n",
              "  <thead>\n",
              "    <tr style=\"text-align: right;\">\n",
              "      <th></th>\n",
              "      <th>message</th>\n",
              "    </tr>\n",
              "    <tr>\n",
              "      <th>class</th>\n",
              "      <th></th>\n",
              "    </tr>\n",
              "  </thead>\n",
              "  <tbody>\n",
              "    <tr>\n",
              "      <th>atis_abbreviation</th>\n",
              "      <td>33</td>\n",
              "    </tr>\n",
              "    <tr>\n",
              "      <th>atis_aircraft</th>\n",
              "      <td>9</td>\n",
              "    </tr>\n",
              "    <tr>\n",
              "      <th>atis_airfare</th>\n",
              "      <td>48</td>\n",
              "    </tr>\n",
              "    <tr>\n",
              "      <th>atis_airline</th>\n",
              "      <td>38</td>\n",
              "    </tr>\n",
              "    <tr>\n",
              "      <th>atis_flight</th>\n",
              "      <td>632</td>\n",
              "    </tr>\n",
              "    <tr>\n",
              "      <th>atis_flight_time</th>\n",
              "      <td>1</td>\n",
              "    </tr>\n",
              "    <tr>\n",
              "      <th>atis_ground_service</th>\n",
              "      <td>36</td>\n",
              "    </tr>\n",
              "    <tr>\n",
              "      <th>atis_quantity</th>\n",
              "      <td>3</td>\n",
              "    </tr>\n",
              "  </tbody>\n",
              "</table>\n",
              "</div>"
            ],
            "text/plain": [
              "                     message\n",
              "class                       \n",
              "atis_abbreviation         33\n",
              "atis_aircraft              9\n",
              "atis_airfare              48\n",
              "atis_airline              38\n",
              "atis_flight              632\n",
              "atis_flight_time           1\n",
              "atis_ground_service       36\n",
              "atis_quantity              3"
            ]
          },
          "metadata": {
            "tags": []
          },
          "execution_count": 6
        }
      ]
    },
    {
      "cell_type": "code",
      "metadata": {
        "id": "Ax0ZXlmMg-5k"
      },
      "source": [
        "def train_validation_split(data, shot_number):\n",
        "    train = data.groupby('class').head(shot_number)\n",
        "    validation = data[~data.isin(train)].dropna()\n",
        "    return train, validation"
      ],
      "execution_count": 7,
      "outputs": []
    },
    {
      "cell_type": "code",
      "metadata": {
        "id": "W5yGWJw8hAQK"
      },
      "source": [
        "def add_int_classes(data):\n",
        "    new_column = pd.factorize(data['class'])\n",
        "    data['int_labels'] = new_column[0]\n",
        "    return data"
      ],
      "execution_count": 8,
      "outputs": []
    },
    {
      "cell_type": "code",
      "metadata": {
        "id": "DWM8qJohoUn6",
        "outputId": "b62160db-a15f-4e5a-d50b-af94d3871121",
        "colab": {
          "base_uri": "https://localhost:8080/"
        }
      },
      "source": [
        "from transformers import BertTokenizer\n",
        "\n",
        "print('Loading BERT tokenizer...')\n",
        "tokenizer = BertTokenizer.from_pretrained('bert-base-uncased', do_lower_case=True)"
      ],
      "execution_count": 39,
      "outputs": [
        {
          "output_type": "stream",
          "text": [
            "Loading BERT tokenizer...\n"
          ],
          "name": "stdout"
        }
      ]
    },
    {
      "cell_type": "code",
      "metadata": {
        "id": "Pq6bqlf-heXb"
      },
      "source": [
        "def get_input_ids_and_att_mask(sentences):\n",
        "    input_ids = []\n",
        "    for sent in sentences:\n",
        "        encoded_sent = tokenizer.encode(sent, add_special_tokens=True)\n",
        "        input_ids.append(encoded_sent)\n",
        "    print('Original: ', sentences[0])\n",
        "    print('Token IDs:', input_ids[0])\n",
        "\n",
        "    from keras.preprocessing.sequence import pad_sequences\n",
        "    MAX_LEN = 32\n",
        "    input_ids = pad_sequences(input_ids, maxlen=MAX_LEN, dtype=\"long\",\n",
        "                              value=0, truncating=\"post\", padding=\"post\")\n",
        "    attention_masks = []\n",
        "    for sent in input_ids:\n",
        "        att_mask = [int(token_id > 0) for token_id in sent]\n",
        "        attention_masks.append(att_mask)\n",
        "    return input_ids, attention_masks\n"
      ],
      "execution_count": 40,
      "outputs": []
    },
    {
      "cell_type": "code",
      "metadata": {
        "id": "OA3_sqhwiBXG"
      },
      "source": [
        "def flat_accuracy(preds, labels):\n",
        "    pred_flat = np.argmax(preds, axis=1).flatten()\n",
        "    labels_flat = labels.flatten()\n",
        "    return np.sum(pred_flat == labels_flat) / len(labels_flat)"
      ],
      "execution_count": 10,
      "outputs": []
    },
    {
      "cell_type": "code",
      "metadata": {
        "id": "9a8xfpZ_iKpm"
      },
      "source": [
        "def format_time(elapsed):\n",
        "    '''\n",
        "    Takes a time in seconds and returns a string hh:mm:ss\n",
        "    '''\n",
        "    elapsed_rounded = int(round((elapsed)))\n",
        "    \n",
        "    return str(datetime.timedelta(seconds=elapsed_rounded))"
      ],
      "execution_count": 11,
      "outputs": []
    },
    {
      "cell_type": "code",
      "metadata": {
        "id": "teqSOBgIqrXK"
      },
      "source": [
        "def train_inner(train_dataloader, validation_dataloader):\n",
        "    from transformers import BertForSequenceClassification, AdamW\n",
        "\n",
        "    model = BertForSequenceClassification.from_pretrained(\"bert-base-uncased\",\n",
        "                                                          num_labels=8,\n",
        "                                                          output_attentions=False,\n",
        "                                                          output_hidden_states=False,\n",
        "                                                          )\n",
        "    model.cuda()\n",
        "\n",
        "    optimizer = AdamW(model.parameters(), lr=2e-5, eps=1e-8)\n",
        "\n",
        "    from transformers import get_linear_schedule_with_warmup\n",
        "\n",
        "    epochs = 8\n",
        "    total_steps = len(train_dataloader) * epochs\n",
        "\n",
        "    scheduler = get_linear_schedule_with_warmup(optimizer,\n",
        "                                                num_warmup_steps=0,  # Default value in run_glue.py\n",
        "                                                num_training_steps=total_steps)\n",
        "    \n",
        "    import random\n",
        "\n",
        "    seed_val = 42\n",
        "\n",
        "    random.seed(seed_val)\n",
        "    np.random.seed(seed_val)\n",
        "    torch.manual_seed(seed_val)\n",
        "    torch.cuda.manual_seed_all(seed_val)\n",
        "    loss_values = []\n",
        "\n",
        "    # For each epoch...\n",
        "    for epoch_i in range(0, epochs):\n",
        "\n",
        "        print(\"\")\n",
        "        print('======== Epoch {:} / {:} ========'.format(epoch_i + 1, epochs))\n",
        "        print('Training...')\n",
        "\n",
        "        t0 = time.time()\n",
        "\n",
        "        total_loss = 0\n",
        "\n",
        "        model.train()\n",
        "\n",
        "        # For each batch of training data...\n",
        "        for step, batch in enumerate(train_dataloader):\n",
        "\n",
        "            # Progress update every 40 batches.\n",
        "            if step % 40 == 0 and not step == 0:\n",
        "                elapsed = format_time(time.time() - t0)\n",
        "\n",
        "                # Report progress.\n",
        "                print('  Batch {:>5,}  of  {:>5,}.    Elapsed: {:}.'.format(step,\n",
        "                                                                            len(train_dataloader),\n",
        "                                                                            elapsed))\n",
        "\n",
        "            b_input_ids = batch[0].to(device)\n",
        "            b_input_mask = batch[1].to(device)\n",
        "            b_labels = batch[2].to(device)\n",
        "\n",
        "            model.zero_grad()\n",
        "\n",
        "            outputs = model(b_input_ids,\n",
        "                            token_type_ids=None,\n",
        "                            attention_mask=b_input_mask,\n",
        "                            labels=b_labels)\n",
        "\n",
        "            loss = outputs[0]\n",
        "            total_loss += loss.item()\n",
        "\n",
        "            loss.backward()\n",
        "            torch.nn.utils.clip_grad_norm_(model.parameters(), 1.0)\n",
        "\n",
        "            optimizer.step()\n",
        "\n",
        "            scheduler.step()\n",
        "\n",
        "        avg_train_loss = total_loss / len(train_dataloader)\n",
        "\n",
        "        loss_values.append(avg_train_loss)\n",
        "\n",
        "        print(\"\")\n",
        "        print(\"  Average training loss: {0:.2f}\".format(avg_train_loss))\n",
        "        print(\"  Training epoch took: {:}\".format(format_time(time.time() - t0)))\n",
        "\n",
        "        print(\"\")\n",
        "        print(\"Running Validation...\")\n",
        "\n",
        "        t0 = time.time()\n",
        "\n",
        "        model.eval()\n",
        "\n",
        "        # Tracking variables\n",
        "        eval_loss, eval_accuracy = 0, 0\n",
        "        nb_eval_steps, nb_eval_examples = 0, 0\n",
        "\n",
        "        # Evaluate data for one epoch\n",
        "        for batch in validation_dataloader:\n",
        "            # Add batch to GPU\n",
        "            batch = tuple(t.to(device) for t in batch)\n",
        "\n",
        "            # Unpack the inputs from our dataloader\n",
        "            b_input_ids, b_input_mask, b_labels = batch\n",
        "\n",
        "            with torch.no_grad():\n",
        "                outputs = model(b_input_ids,\n",
        "                                token_type_ids=None,\n",
        "                                attention_mask=b_input_mask)\n",
        "\n",
        "            logits = outputs[0]\n",
        "\n",
        "            logits = logits.detach().cpu().numpy()\n",
        "            label_ids = b_labels.to('cpu').numpy()\n",
        "\n",
        "            tmp_eval_accuracy = flat_accuracy(logits, label_ids)\n",
        "\n",
        "            eval_accuracy += tmp_eval_accuracy\n",
        "\n",
        "            nb_eval_steps += 1\n",
        "\n",
        "        print(\"  Accuracy: {0:.2f}\".format(eval_accuracy / nb_eval_steps))\n",
        "        print(\"  Validation took: {:}\".format(format_time(time.time() - t0)))\n",
        "\n",
        "    print(\"\")\n",
        "    print(\"Training complete!\")\n",
        "    return model"
      ],
      "execution_count": 56,
      "outputs": []
    },
    {
      "cell_type": "code",
      "metadata": {
        "id": "NQOFxFlvzfsa"
      },
      "source": [
        "from torch.utils.data import TensorDataset, DataLoader, RandomSampler, SequentialSampler"
      ],
      "execution_count": 66,
      "outputs": []
    },
    {
      "cell_type": "code",
      "metadata": {
        "id": "fWlvkODXg0K_"
      },
      "source": [
        "def train_model(data, shot_number):\n",
        "    df_train_split, df_validation_split = train_validation_split(data, shot_number)\n",
        "    df_train_split = add_int_classes(df_train_split)\n",
        "    df_validation_split = add_int_classes(df_validation_split)\n",
        "\n",
        "    X_train, y_train = df_train_split['message'], df_train_split['int_labels']\n",
        "    X_validation, y_validation = df_validation_split['message'], df_validation_split['int_labels']\n",
        "\n",
        "    train_labels = df_train_split.loc[:, 'int_labels'].values\n",
        "    train_sentences = df_train_split.loc[:, 'message'].values\n",
        "    validation_labels = df_validation_split.loc[:, 'int_labels'].values\n",
        "    validation_sentences = df_validation_split.loc[:, 'message'].values\n",
        "\n",
        "    train_inputs, train_masks = get_input_ids_and_att_mask(train_sentences)\n",
        "    validation_inputs, validation_masks = get_input_ids_and_att_mask(validation_sentences)\n",
        "\n",
        "    train_inputs = torch.tensor(train_inputs)\n",
        "    validation_inputs = torch.tensor(validation_inputs)\n",
        "\n",
        "    train_labels = torch.tensor(train_labels)\n",
        "    validation_labels = torch.tensor(validation_labels)\n",
        "\n",
        "    train_masks = torch.tensor(train_masks)\n",
        "    validation_masks = torch.tensor(validation_masks)\n",
        "\n",
        "    batch_size = 16\n",
        "\n",
        "    train_data = TensorDataset(train_inputs, train_masks, train_labels)\n",
        "    train_sampler = RandomSampler(train_data)\n",
        "    train_dataloader = DataLoader(train_data, sampler=train_sampler, batch_size=batch_size)\n",
        "\n",
        "    validation_data = TensorDataset(validation_inputs, validation_masks, validation_labels)\n",
        "    validation_sampler = SequentialSampler(validation_data)\n",
        "    validation_dataloader = DataLoader(validation_data, sampler=validation_sampler,\n",
        "                                       batch_size=batch_size)\n",
        "\n",
        "    model = train_inner(train_dataloader, validation_dataloader)\n",
        "    return model"
      ],
      "execution_count": 67,
      "outputs": []
    },
    {
      "cell_type": "code",
      "metadata": {
        "id": "C7y0hNJVpTDb"
      },
      "source": [
        "def test_model(df_test, model):\n",
        "    df_test = add_int_classes(df_test)\n",
        "\n",
        "    X_test, y_test = df_test['message'], df_test['int_labels']\n",
        "\n",
        "    test_inputs, test_masks = get_input_ids_and_att_mask(X_test.values)\n",
        "\n",
        "    prediction_inputs = torch.tensor(test_inputs)\n",
        "    prediction_masks = torch.tensor(test_masks)\n",
        "    prediction_labels = torch.tensor(y_test)\n",
        "\n",
        "    batch_size = 16\n",
        "\n",
        "    prediction_data = TensorDataset(prediction_inputs, prediction_masks, prediction_labels)\n",
        "    prediction_sampler = SequentialSampler(prediction_data)\n",
        "    prediction_dataloader = DataLoader(prediction_data, sampler=prediction_sampler,\n",
        "                                       batch_size=batch_size)\n",
        "    # Prediction on test set\n",
        "\n",
        "    print('Predicting labels for {:,} test sentences...'.format(len(prediction_inputs)))\n",
        "\n",
        "    # Put model in evaluation mode\n",
        "    model.eval()\n",
        "\n",
        "    # Tracking variables \n",
        "    predictions, true_labels = [], []\n",
        "\n",
        "    # Predict \n",
        "    for batch in prediction_dataloader:\n",
        "        # Add batch to GPU\n",
        "        batch = tuple(t.to(device) for t in batch)\n",
        "\n",
        "        # Unpack the inputs from our dataloader\n",
        "        b_input_ids, b_input_mask, b_labels = batch\n",
        "\n",
        "        # Telling the model not to compute or store gradients, saving memory and \n",
        "        # speeding up prediction\n",
        "        with torch.no_grad():\n",
        "            # Forward pass, calculate logit predictions\n",
        "            outputs = model(b_input_ids, token_type_ids=None,\n",
        "                            attention_mask=b_input_mask)\n",
        "\n",
        "        logits = outputs[0]\n",
        "\n",
        "        # Move logits and labels to CPU\n",
        "        logits = logits.detach().cpu().numpy()\n",
        "        label_ids = b_labels.to('cpu').numpy()\n",
        "\n",
        "        # Store predictions and true labels\n",
        "        predict_label = np.argmax(logits, axis=1)\n",
        "        predictions.append(predict_label)\n",
        "        true_labels.append(label_ids)\n",
        "\n",
        "    flat_predictions = [item for sublist in predictions for item in sublist]\n",
        "    flat_true_labels = [item for sublist in true_labels for item in sublist]\n",
        "\n",
        "    from sklearn.metrics import matthews_corrcoef, f1_score, recall_score, precision_score\n",
        "    f1 = f1_score(flat_true_labels, flat_predictions, average=\"macro\")\n",
        "    recall = recall_score(flat_true_labels, flat_predictions, average=\"macro\")\n",
        "    precision = precision_score(flat_true_labels, flat_predictions, average=\"macro\")\n",
        "    matt_corr = matthews_corrcoef(flat_true_labels, flat_predictions)\n",
        "    print(\"F1-Score: \", f1)\n",
        "    print(\"Recall: \", recall)\n",
        "    print(\"Precision: \", precision)\n",
        "    print(\"MCC: \", matt_corr)\n",
        "    return f1, recall, precision, matt_corr\n"
      ],
      "execution_count": 74,
      "outputs": []
    },
    {
      "cell_type": "code",
      "metadata": {
        "id": "yf2M98iTsSGO"
      },
      "source": [
        "def train_and_test(train, test, shot_number):\n",
        "  model = train_model(train, shot_number)\n",
        "  return test_model(test, model)"
      ],
      "execution_count": 75,
      "outputs": []
    },
    {
      "cell_type": "code",
      "metadata": {
        "id": "hGK2bRFpyvBY",
        "outputId": "914c218c-4bde-411e-c223-65e054bd0c66",
        "colab": {
          "base_uri": "https://localhost:8080/"
        }
      },
      "source": [
        "shot_1 = train_and_test(df_train, df_test, 1)"
      ],
      "execution_count": 76,
      "outputs": [
        {
          "output_type": "stream",
          "text": [
            "/usr/local/lib/python3.6/dist-packages/ipykernel_launcher.py:3: SettingWithCopyWarning: \n",
            "A value is trying to be set on a copy of a slice from a DataFrame.\n",
            "Try using .loc[row_indexer,col_indexer] = value instead\n",
            "\n",
            "See the caveats in the documentation: https://pandas.pydata.org/pandas-docs/stable/user_guide/indexing.html#returning-a-view-versus-a-copy\n",
            "  This is separate from the ipykernel package so we can avoid doing imports until\n"
          ],
          "name": "stderr"
        },
        {
          "output_type": "stream",
          "text": [
            "Original:   i want to fly from boston at 838 am and arrive in denver at 1110 in the morning\n",
            "Token IDs: [101, 1045, 2215, 2000, 4875, 2013, 3731, 2012, 6640, 2620, 2572, 1998, 7180, 1999, 7573, 2012, 11118, 2692, 1999, 1996, 2851, 102]\n",
            "Original:   what flights are available from pittsburgh to baltimore on thursday morning\n",
            "Token IDs: [101, 2054, 7599, 2024, 2800, 2013, 6278, 2000, 6222, 2006, 9432, 2851, 102]\n"
          ],
          "name": "stdout"
        },
        {
          "output_type": "stream",
          "text": [
            "Some weights of the model checkpoint at bert-base-uncased were not used when initializing BertForSequenceClassification: ['cls.predictions.bias', 'cls.predictions.transform.dense.weight', 'cls.predictions.transform.dense.bias', 'cls.predictions.decoder.weight', 'cls.seq_relationship.weight', 'cls.seq_relationship.bias', 'cls.predictions.transform.LayerNorm.weight', 'cls.predictions.transform.LayerNorm.bias']\n",
            "- This IS expected if you are initializing BertForSequenceClassification from the checkpoint of a model trained on another task or with another architecture (e.g. initializing a BertForSequenceClassification model from a BertForPreTraining model).\n",
            "- This IS NOT expected if you are initializing BertForSequenceClassification from the checkpoint of a model that you expect to be exactly identical (initializing a BertForSequenceClassification model from a BertForSequenceClassification model).\n",
            "Some weights of BertForSequenceClassification were not initialized from the model checkpoint at bert-base-uncased and are newly initialized: ['classifier.weight', 'classifier.bias']\n",
            "You should probably TRAIN this model on a down-stream task to be able to use it for predictions and inference.\n"
          ],
          "name": "stderr"
        },
        {
          "output_type": "stream",
          "text": [
            "\n",
            "======== Epoch 1 / 8 ========\n",
            "Training...\n",
            "\n",
            "  Average training loss: 2.16\n",
            "  Training epoch took: 0:00:00\n",
            "\n",
            "Running Validation...\n",
            "  Accuracy: 0.06\n",
            "  Validation took: 0:00:10\n",
            "\n",
            "======== Epoch 2 / 8 ========\n",
            "Training...\n",
            "\n",
            "  Average training loss: 2.12\n",
            "  Training epoch took: 0:00:00\n",
            "\n",
            "Running Validation...\n",
            "  Accuracy: 0.08\n",
            "  Validation took: 0:00:10\n",
            "\n",
            "======== Epoch 3 / 8 ========\n",
            "Training...\n",
            "\n",
            "  Average training loss: 1.95\n",
            "  Training epoch took: 0:00:00\n",
            "\n",
            "Running Validation...\n",
            "  Accuracy: 0.09\n",
            "  Validation took: 0:00:10\n",
            "\n",
            "======== Epoch 4 / 8 ========\n",
            "Training...\n",
            "\n",
            "  Average training loss: 1.98\n",
            "  Training epoch took: 0:00:00\n",
            "\n",
            "Running Validation...\n",
            "  Accuracy: 0.07\n",
            "  Validation took: 0:00:10\n",
            "\n",
            "======== Epoch 5 / 8 ========\n",
            "Training...\n",
            "\n",
            "  Average training loss: 1.91\n",
            "  Training epoch took: 0:00:00\n",
            "\n",
            "Running Validation...\n",
            "  Accuracy: 0.08\n",
            "  Validation took: 0:00:10\n",
            "\n",
            "======== Epoch 6 / 8 ========\n",
            "Training...\n",
            "\n",
            "  Average training loss: 1.87\n",
            "  Training epoch took: 0:00:00\n",
            "\n",
            "Running Validation...\n",
            "  Accuracy: 0.09\n",
            "  Validation took: 0:00:10\n",
            "\n",
            "======== Epoch 7 / 8 ========\n",
            "Training...\n",
            "\n",
            "  Average training loss: 1.97\n",
            "  Training epoch took: 0:00:00\n",
            "\n",
            "Running Validation...\n",
            "  Accuracy: 0.11\n",
            "  Validation took: 0:00:10\n",
            "\n",
            "======== Epoch 8 / 8 ========\n",
            "Training...\n",
            "\n",
            "  Average training loss: 1.89\n",
            "  Training epoch took: 0:00:00\n",
            "\n",
            "Running Validation...\n",
            "  Accuracy: 0.13\n",
            "  Validation took: 0:00:10\n",
            "\n",
            "Training complete!\n",
            "Original:   i would like to find a flight from charlotte to las vegas that makes a stop in st. louis\n",
            "Token IDs: [101, 1045, 2052, 2066, 2000, 2424, 1037, 3462, 2013, 5904, 2000, 5869, 7136, 2008, 3084, 1037, 2644, 1999, 2358, 1012, 3434, 102]\n",
            "Predicting labels for 800 test sentences...\n",
            "F1-Score:  0.03745299946255944\n",
            "Recall:  0.10686625582944703\n",
            "Precision:  0.1166343154394625\n",
            "MCC:  -0.0031674242173213383\n"
          ],
          "name": "stdout"
        },
        {
          "output_type": "stream",
          "text": [
            "/usr/local/lib/python3.6/dist-packages/sklearn/metrics/_classification.py:1272: UndefinedMetricWarning: Precision is ill-defined and being set to 0.0 in labels with no predicted samples. Use `zero_division` parameter to control this behavior.\n",
            "  _warn_prf(average, modifier, msg_start, len(result))\n"
          ],
          "name": "stderr"
        }
      ]
    },
    {
      "cell_type": "code",
      "metadata": {
        "id": "MFIN_6qGy2ew",
        "outputId": "5e2d1eb8-25d6-4442-a9ac-78f68eeb45ba",
        "colab": {
          "base_uri": "https://localhost:8080/"
        }
      },
      "source": [
        "shot_2 = train_and_test(df_train, df_test, 2)"
      ],
      "execution_count": 77,
      "outputs": [
        {
          "output_type": "stream",
          "text": [
            "/usr/local/lib/python3.6/dist-packages/ipykernel_launcher.py:3: SettingWithCopyWarning: \n",
            "A value is trying to be set on a copy of a slice from a DataFrame.\n",
            "Try using .loc[row_indexer,col_indexer] = value instead\n",
            "\n",
            "See the caveats in the documentation: https://pandas.pydata.org/pandas-docs/stable/user_guide/indexing.html#returning-a-view-versus-a-copy\n",
            "  This is separate from the ipykernel package so we can avoid doing imports until\n"
          ],
          "name": "stderr"
        },
        {
          "output_type": "stream",
          "text": [
            "Original:   i want to fly from boston at 838 am and arrive in denver at 1110 in the morning\n",
            "Token IDs: [101, 1045, 2215, 2000, 4875, 2013, 3731, 2012, 6640, 2620, 2572, 1998, 7180, 1999, 7573, 2012, 11118, 2692, 1999, 1996, 2851, 102]\n",
            "Original:   i need a flight tomorrow from columbus to minneapolis\n",
            "Token IDs: [101, 1045, 2342, 1037, 3462, 4826, 2013, 8912, 2000, 11334, 102]\n"
          ],
          "name": "stdout"
        },
        {
          "output_type": "stream",
          "text": [
            "Some weights of the model checkpoint at bert-base-uncased were not used when initializing BertForSequenceClassification: ['cls.predictions.bias', 'cls.predictions.transform.dense.weight', 'cls.predictions.transform.dense.bias', 'cls.predictions.decoder.weight', 'cls.seq_relationship.weight', 'cls.seq_relationship.bias', 'cls.predictions.transform.LayerNorm.weight', 'cls.predictions.transform.LayerNorm.bias']\n",
            "- This IS expected if you are initializing BertForSequenceClassification from the checkpoint of a model trained on another task or with another architecture (e.g. initializing a BertForSequenceClassification model from a BertForPreTraining model).\n",
            "- This IS NOT expected if you are initializing BertForSequenceClassification from the checkpoint of a model that you expect to be exactly identical (initializing a BertForSequenceClassification model from a BertForSequenceClassification model).\n",
            "Some weights of BertForSequenceClassification were not initialized from the model checkpoint at bert-base-uncased and are newly initialized: ['classifier.weight', 'classifier.bias']\n",
            "You should probably TRAIN this model on a down-stream task to be able to use it for predictions and inference.\n"
          ],
          "name": "stderr"
        },
        {
          "output_type": "stream",
          "text": [
            "\n",
            "======== Epoch 1 / 8 ========\n",
            "Training...\n",
            "\n",
            "  Average training loss: 2.12\n",
            "  Training epoch took: 0:00:00\n",
            "\n",
            "Running Validation...\n",
            "  Accuracy: 0.05\n",
            "  Validation took: 0:00:09\n",
            "\n",
            "======== Epoch 2 / 8 ========\n",
            "Training...\n",
            "\n",
            "  Average training loss: 2.12\n",
            "  Training epoch took: 0:00:00\n",
            "\n",
            "Running Validation...\n",
            "  Accuracy: 0.10\n",
            "  Validation took: 0:00:10\n",
            "\n",
            "======== Epoch 3 / 8 ========\n",
            "Training...\n",
            "\n",
            "  Average training loss: 2.06\n",
            "  Training epoch took: 0:00:00\n",
            "\n",
            "Running Validation...\n",
            "  Accuracy: 0.15\n",
            "  Validation took: 0:00:10\n",
            "\n",
            "======== Epoch 4 / 8 ========\n",
            "Training...\n",
            "\n",
            "  Average training loss: 1.95\n",
            "  Training epoch took: 0:00:00\n",
            "\n",
            "Running Validation...\n",
            "  Accuracy: 0.16\n",
            "  Validation took: 0:00:10\n",
            "\n",
            "======== Epoch 5 / 8 ========\n",
            "Training...\n",
            "\n",
            "  Average training loss: 1.94\n",
            "  Training epoch took: 0:00:00\n",
            "\n",
            "Running Validation...\n",
            "  Accuracy: 0.19\n",
            "  Validation took: 0:00:10\n",
            "\n",
            "======== Epoch 6 / 8 ========\n",
            "Training...\n",
            "\n",
            "  Average training loss: 1.90\n",
            "  Training epoch took: 0:00:00\n",
            "\n",
            "Running Validation...\n",
            "  Accuracy: 0.23\n",
            "  Validation took: 0:00:10\n",
            "\n",
            "======== Epoch 7 / 8 ========\n",
            "Training...\n",
            "\n",
            "  Average training loss: 1.88\n",
            "  Training epoch took: 0:00:00\n",
            "\n",
            "Running Validation...\n",
            "  Accuracy: 0.27\n",
            "  Validation took: 0:00:10\n",
            "\n",
            "======== Epoch 8 / 8 ========\n",
            "Training...\n",
            "\n",
            "  Average training loss: 1.87\n",
            "  Training epoch took: 0:00:00\n",
            "\n",
            "Running Validation...\n",
            "  Accuracy: 0.28\n",
            "  Validation took: 0:00:10\n",
            "\n",
            "Training complete!\n",
            "Original:   i would like to find a flight from charlotte to las vegas that makes a stop in st. louis\n",
            "Token IDs: [101, 1045, 2052, 2066, 2000, 2424, 1037, 3462, 2013, 5904, 2000, 5869, 7136, 2008, 3084, 1037, 2644, 1999, 2358, 1012, 3434, 102]\n",
            "Predicting labels for 800 test sentences...\n",
            "F1-Score:  0.08510330370140357\n",
            "Recall:  0.16329969834924865\n",
            "Precision:  0.13315730925259905\n",
            "MCC:  0.08875272947611326\n"
          ],
          "name": "stdout"
        },
        {
          "output_type": "stream",
          "text": [
            "/usr/local/lib/python3.6/dist-packages/sklearn/metrics/_classification.py:1272: UndefinedMetricWarning: Precision is ill-defined and being set to 0.0 in labels with no predicted samples. Use `zero_division` parameter to control this behavior.\n",
            "  _warn_prf(average, modifier, msg_start, len(result))\n"
          ],
          "name": "stderr"
        }
      ]
    },
    {
      "cell_type": "code",
      "metadata": {
        "id": "lH1KLPJv0jU2",
        "outputId": "c9400a9f-09ee-449e-bc70-750562db74fd",
        "colab": {
          "base_uri": "https://localhost:8080/"
        }
      },
      "source": [
        "shot_5 = train_and_test(df_train, df_test, 5)"
      ],
      "execution_count": 78,
      "outputs": [
        {
          "output_type": "stream",
          "text": [
            "/usr/local/lib/python3.6/dist-packages/ipykernel_launcher.py:3: SettingWithCopyWarning: \n",
            "A value is trying to be set on a copy of a slice from a DataFrame.\n",
            "Try using .loc[row_indexer,col_indexer] = value instead\n",
            "\n",
            "See the caveats in the documentation: https://pandas.pydata.org/pandas-docs/stable/user_guide/indexing.html#returning-a-view-versus-a-copy\n",
            "  This is separate from the ipykernel package so we can avoid doing imports until\n"
          ],
          "name": "stderr"
        },
        {
          "output_type": "stream",
          "text": [
            "Original:   i want to fly from boston at 838 am and arrive in denver at 1110 in the morning\n",
            "Token IDs: [101, 1045, 2215, 2000, 4875, 2013, 3731, 2012, 6640, 2620, 2572, 1998, 7180, 1999, 7573, 2012, 11118, 2692, 1999, 1996, 2851, 102]\n",
            "Original:   show me the flights from dallas to san francisco\n",
            "Token IDs: [101, 2265, 2033, 1996, 7599, 2013, 5759, 2000, 2624, 3799, 102]\n"
          ],
          "name": "stdout"
        },
        {
          "output_type": "stream",
          "text": [
            "Some weights of the model checkpoint at bert-base-uncased were not used when initializing BertForSequenceClassification: ['cls.predictions.bias', 'cls.predictions.transform.dense.weight', 'cls.predictions.transform.dense.bias', 'cls.predictions.decoder.weight', 'cls.seq_relationship.weight', 'cls.seq_relationship.bias', 'cls.predictions.transform.LayerNorm.weight', 'cls.predictions.transform.LayerNorm.bias']\n",
            "- This IS expected if you are initializing BertForSequenceClassification from the checkpoint of a model trained on another task or with another architecture (e.g. initializing a BertForSequenceClassification model from a BertForPreTraining model).\n",
            "- This IS NOT expected if you are initializing BertForSequenceClassification from the checkpoint of a model that you expect to be exactly identical (initializing a BertForSequenceClassification model from a BertForSequenceClassification model).\n",
            "Some weights of BertForSequenceClassification were not initialized from the model checkpoint at bert-base-uncased and are newly initialized: ['classifier.weight', 'classifier.bias']\n",
            "You should probably TRAIN this model on a down-stream task to be able to use it for predictions and inference.\n"
          ],
          "name": "stderr"
        },
        {
          "output_type": "stream",
          "text": [
            "\n",
            "======== Epoch 1 / 8 ========\n",
            "Training...\n",
            "\n",
            "  Average training loss: 2.14\n",
            "  Training epoch took: 0:00:00\n",
            "\n",
            "Running Validation...\n",
            "  Accuracy: 0.06\n",
            "  Validation took: 0:00:10\n",
            "\n",
            "======== Epoch 2 / 8 ========\n",
            "Training...\n",
            "\n",
            "  Average training loss: 1.99\n",
            "  Training epoch took: 0:00:00\n",
            "\n",
            "Running Validation...\n",
            "  Accuracy: 0.09\n",
            "  Validation took: 0:00:10\n",
            "\n",
            "======== Epoch 3 / 8 ========\n",
            "Training...\n",
            "\n",
            "  Average training loss: 1.97\n",
            "  Training epoch took: 0:00:00\n",
            "\n",
            "Running Validation...\n",
            "  Accuracy: 0.06\n",
            "  Validation took: 0:00:10\n",
            "\n",
            "======== Epoch 4 / 8 ========\n",
            "Training...\n",
            "\n",
            "  Average training loss: 1.90\n",
            "  Training epoch took: 0:00:00\n",
            "\n",
            "Running Validation...\n",
            "  Accuracy: 0.02\n",
            "  Validation took: 0:00:10\n",
            "\n",
            "======== Epoch 5 / 8 ========\n",
            "Training...\n",
            "\n",
            "  Average training loss: 1.88\n",
            "  Training epoch took: 0:00:00\n",
            "\n",
            "Running Validation...\n",
            "  Accuracy: 0.03\n",
            "  Validation took: 0:00:10\n",
            "\n",
            "======== Epoch 6 / 8 ========\n",
            "Training...\n",
            "\n",
            "  Average training loss: 1.86\n",
            "  Training epoch took: 0:00:00\n",
            "\n",
            "Running Validation...\n",
            "  Accuracy: 0.04\n",
            "  Validation took: 0:00:10\n",
            "\n",
            "======== Epoch 7 / 8 ========\n",
            "Training...\n",
            "\n",
            "  Average training loss: 1.81\n",
            "  Training epoch took: 0:00:00\n",
            "\n",
            "Running Validation...\n",
            "  Accuracy: 0.04\n",
            "  Validation took: 0:00:10\n",
            "\n",
            "======== Epoch 8 / 8 ========\n",
            "Training...\n",
            "\n",
            "  Average training loss: 1.79\n",
            "  Training epoch took: 0:00:00\n",
            "\n",
            "Running Validation...\n",
            "  Accuracy: 0.05\n",
            "  Validation took: 0:00:10\n",
            "\n",
            "Training complete!\n",
            "Original:   i would like to find a flight from charlotte to las vegas that makes a stop in st. louis\n",
            "Token IDs: [101, 1045, 2052, 2066, 2000, 2424, 1037, 3462, 2013, 5904, 2000, 5869, 7136, 2008, 3084, 1037, 2644, 1999, 2358, 1012, 3434, 102]\n",
            "Predicting labels for 800 test sentences...\n",
            "F1-Score:  0.05344925260442326\n",
            "Recall:  0.1712336451624843\n",
            "Precision:  0.1576220425277029\n",
            "MCC:  0.06268859843178844\n"
          ],
          "name": "stdout"
        },
        {
          "output_type": "stream",
          "text": [
            "/usr/local/lib/python3.6/dist-packages/sklearn/metrics/_classification.py:1272: UndefinedMetricWarning: Precision is ill-defined and being set to 0.0 in labels with no predicted samples. Use `zero_division` parameter to control this behavior.\n",
            "  _warn_prf(average, modifier, msg_start, len(result))\n"
          ],
          "name": "stderr"
        }
      ]
    },
    {
      "cell_type": "code",
      "metadata": {
        "id": "0ZT22tkU0lgU",
        "outputId": "d241c926-c198-4540-c1c3-fa33038e657b",
        "colab": {
          "base_uri": "https://localhost:8080/"
        }
      },
      "source": [
        "shot_10 = train_and_test(df_train, df_test, 10)"
      ],
      "execution_count": 79,
      "outputs": [
        {
          "output_type": "stream",
          "text": [
            "/usr/local/lib/python3.6/dist-packages/ipykernel_launcher.py:3: SettingWithCopyWarning: \n",
            "A value is trying to be set on a copy of a slice from a DataFrame.\n",
            "Try using .loc[row_indexer,col_indexer] = value instead\n",
            "\n",
            "See the caveats in the documentation: https://pandas.pydata.org/pandas-docs/stable/user_guide/indexing.html#returning-a-view-versus-a-copy\n",
            "  This is separate from the ipykernel package so we can avoid doing imports until\n"
          ],
          "name": "stderr"
        },
        {
          "output_type": "stream",
          "text": [
            "Original:   i want to fly from boston at 838 am and arrive in denver at 1110 in the morning\n",
            "Token IDs: [101, 1045, 2215, 2000, 4875, 2013, 3731, 2012, 6640, 2620, 2572, 1998, 7180, 1999, 7573, 2012, 11118, 2692, 1999, 1996, 2851, 102]\n",
            "Original:   i need information on flights for tuesday leaving baltimore for dallas dallas to boston and boston to baltimore\n",
            "Token IDs: [101, 1045, 2342, 2592, 2006, 7599, 2005, 9857, 2975, 6222, 2005, 5759, 5759, 2000, 3731, 1998, 3731, 2000, 6222, 102]\n"
          ],
          "name": "stdout"
        },
        {
          "output_type": "stream",
          "text": [
            "Some weights of the model checkpoint at bert-base-uncased were not used when initializing BertForSequenceClassification: ['cls.predictions.bias', 'cls.predictions.transform.dense.weight', 'cls.predictions.transform.dense.bias', 'cls.predictions.decoder.weight', 'cls.seq_relationship.weight', 'cls.seq_relationship.bias', 'cls.predictions.transform.LayerNorm.weight', 'cls.predictions.transform.LayerNorm.bias']\n",
            "- This IS expected if you are initializing BertForSequenceClassification from the checkpoint of a model trained on another task or with another architecture (e.g. initializing a BertForSequenceClassification model from a BertForPreTraining model).\n",
            "- This IS NOT expected if you are initializing BertForSequenceClassification from the checkpoint of a model that you expect to be exactly identical (initializing a BertForSequenceClassification model from a BertForSequenceClassification model).\n",
            "Some weights of BertForSequenceClassification were not initialized from the model checkpoint at bert-base-uncased and are newly initialized: ['classifier.weight', 'classifier.bias']\n",
            "You should probably TRAIN this model on a down-stream task to be able to use it for predictions and inference.\n"
          ],
          "name": "stderr"
        },
        {
          "output_type": "stream",
          "text": [
            "\n",
            "======== Epoch 1 / 8 ========\n",
            "Training...\n",
            "\n",
            "  Average training loss: 2.13\n",
            "  Training epoch took: 0:00:01\n",
            "\n",
            "Running Validation...\n",
            "  Accuracy: 0.06\n",
            "  Validation took: 0:00:10\n",
            "\n",
            "======== Epoch 2 / 8 ========\n",
            "Training...\n",
            "\n",
            "  Average training loss: 2.03\n",
            "  Training epoch took: 0:00:01\n",
            "\n",
            "Running Validation...\n",
            "  Accuracy: 0.10\n",
            "  Validation took: 0:00:10\n",
            "\n",
            "======== Epoch 3 / 8 ========\n",
            "Training...\n",
            "\n",
            "  Average training loss: 1.89\n",
            "  Training epoch took: 0:00:01\n",
            "\n",
            "Running Validation...\n",
            "  Accuracy: 0.19\n",
            "  Validation took: 0:00:10\n",
            "\n",
            "======== Epoch 4 / 8 ========\n",
            "Training...\n",
            "\n",
            "  Average training loss: 1.90\n",
            "  Training epoch took: 0:00:01\n",
            "\n",
            "Running Validation...\n",
            "  Accuracy: 0.21\n",
            "  Validation took: 0:00:10\n",
            "\n",
            "======== Epoch 5 / 8 ========\n",
            "Training...\n",
            "\n",
            "  Average training loss: 1.77\n",
            "  Training epoch took: 0:00:01\n",
            "\n",
            "Running Validation...\n",
            "  Accuracy: 0.19\n",
            "  Validation took: 0:00:10\n",
            "\n",
            "======== Epoch 6 / 8 ========\n",
            "Training...\n",
            "\n",
            "  Average training loss: 1.71\n",
            "  Training epoch took: 0:00:01\n",
            "\n",
            "Running Validation...\n",
            "  Accuracy: 0.22\n",
            "  Validation took: 0:00:10\n",
            "\n",
            "======== Epoch 7 / 8 ========\n",
            "Training...\n",
            "\n",
            "  Average training loss: 1.69\n",
            "  Training epoch took: 0:00:01\n",
            "\n",
            "Running Validation...\n",
            "  Accuracy: 0.24\n",
            "  Validation took: 0:00:10\n",
            "\n",
            "======== Epoch 8 / 8 ========\n",
            "Training...\n",
            "\n",
            "  Average training loss: 1.67\n",
            "  Training epoch took: 0:00:01\n",
            "\n",
            "Running Validation...\n",
            "  Accuracy: 0.23\n",
            "  Validation took: 0:00:10\n",
            "\n",
            "Training complete!\n",
            "Original:   i would like to find a flight from charlotte to las vegas that makes a stop in st. louis\n",
            "Token IDs: [101, 1045, 2052, 2066, 2000, 2424, 1037, 3462, 2013, 5904, 2000, 5869, 7136, 2008, 3084, 1037, 2644, 1999, 2358, 1012, 3434, 102]\n",
            "Predicting labels for 800 test sentences...\n",
            "F1-Score:  0.17463280522071115\n",
            "Recall:  0.222485935302391\n",
            "Precision:  0.20880995988138845\n",
            "MCC:  0.1350351558316251\n"
          ],
          "name": "stdout"
        }
      ]
    },
    {
      "cell_type": "code",
      "metadata": {
        "id": "dpz1XV0F0wgi",
        "outputId": "b99bc107-b1df-47a4-b945-79a16d032ea8",
        "colab": {
          "base_uri": "https://localhost:8080/"
        }
      },
      "source": [
        "shot_20 = train_and_test(df_train, df_test, 20)"
      ],
      "execution_count": 80,
      "outputs": [
        {
          "output_type": "stream",
          "text": [
            "Original:   i want to fly from boston at 838 am and arrive in denver at 1110 in the morning\n",
            "Token IDs: [101, 1045, 2215, 2000, 4875, 2013, 3731, 2012, 6640, 2620, 2572, 1998, 7180, 1999, 7573, 2012, 11118, 2692, 1999, 1996, 2851, 102]\n"
          ],
          "name": "stdout"
        },
        {
          "output_type": "stream",
          "text": [
            "/usr/local/lib/python3.6/dist-packages/ipykernel_launcher.py:3: SettingWithCopyWarning: \n",
            "A value is trying to be set on a copy of a slice from a DataFrame.\n",
            "Try using .loc[row_indexer,col_indexer] = value instead\n",
            "\n",
            "See the caveats in the documentation: https://pandas.pydata.org/pandas-docs/stable/user_guide/indexing.html#returning-a-view-versus-a-copy\n",
            "  This is separate from the ipykernel package so we can avoid doing imports until\n"
          ],
          "name": "stderr"
        },
        {
          "output_type": "stream",
          "text": [
            "Original:   please find a flight on delta from philadelphia to san francisco and give me the flight numbers\n",
            "Token IDs: [101, 3531, 2424, 1037, 3462, 2006, 7160, 2013, 4407, 2000, 2624, 3799, 1998, 2507, 2033, 1996, 3462, 3616, 102]\n"
          ],
          "name": "stdout"
        },
        {
          "output_type": "stream",
          "text": [
            "Some weights of the model checkpoint at bert-base-uncased were not used when initializing BertForSequenceClassification: ['cls.predictions.bias', 'cls.predictions.transform.dense.weight', 'cls.predictions.transform.dense.bias', 'cls.predictions.decoder.weight', 'cls.seq_relationship.weight', 'cls.seq_relationship.bias', 'cls.predictions.transform.LayerNorm.weight', 'cls.predictions.transform.LayerNorm.bias']\n",
            "- This IS expected if you are initializing BertForSequenceClassification from the checkpoint of a model trained on another task or with another architecture (e.g. initializing a BertForSequenceClassification model from a BertForPreTraining model).\n",
            "- This IS NOT expected if you are initializing BertForSequenceClassification from the checkpoint of a model that you expect to be exactly identical (initializing a BertForSequenceClassification model from a BertForSequenceClassification model).\n",
            "Some weights of BertForSequenceClassification were not initialized from the model checkpoint at bert-base-uncased and are newly initialized: ['classifier.weight', 'classifier.bias']\n",
            "You should probably TRAIN this model on a down-stream task to be able to use it for predictions and inference.\n"
          ],
          "name": "stderr"
        },
        {
          "output_type": "stream",
          "text": [
            "\n",
            "======== Epoch 1 / 8 ========\n",
            "Training...\n",
            "\n",
            "  Average training loss: 2.09\n",
            "  Training epoch took: 0:00:01\n",
            "\n",
            "Running Validation...\n",
            "  Accuracy: 0.39\n",
            "  Validation took: 0:00:09\n",
            "\n",
            "======== Epoch 2 / 8 ========\n",
            "Training...\n",
            "\n",
            "  Average training loss: 1.91\n",
            "  Training epoch took: 0:00:01\n",
            "\n",
            "Running Validation...\n",
            "  Accuracy: 0.29\n",
            "  Validation took: 0:00:10\n",
            "\n",
            "======== Epoch 3 / 8 ========\n",
            "Training...\n",
            "\n",
            "  Average training loss: 1.77\n",
            "  Training epoch took: 0:00:01\n",
            "\n",
            "Running Validation...\n",
            "  Accuracy: 0.28\n",
            "  Validation took: 0:00:10\n",
            "\n",
            "======== Epoch 4 / 8 ========\n",
            "Training...\n",
            "\n",
            "  Average training loss: 1.61\n",
            "  Training epoch took: 0:00:01\n",
            "\n",
            "Running Validation...\n",
            "  Accuracy: 0.26\n",
            "  Validation took: 0:00:10\n",
            "\n",
            "======== Epoch 5 / 8 ========\n",
            "Training...\n",
            "\n",
            "  Average training loss: 1.50\n",
            "  Training epoch took: 0:00:01\n",
            "\n",
            "Running Validation...\n",
            "  Accuracy: 0.29\n",
            "  Validation took: 0:00:09\n",
            "\n",
            "======== Epoch 6 / 8 ========\n",
            "Training...\n",
            "\n",
            "  Average training loss: 1.38\n",
            "  Training epoch took: 0:00:01\n",
            "\n",
            "Running Validation...\n",
            "  Accuracy: 0.38\n",
            "  Validation took: 0:00:09\n",
            "\n",
            "======== Epoch 7 / 8 ========\n",
            "Training...\n",
            "\n",
            "  Average training loss: 1.29\n",
            "  Training epoch took: 0:00:01\n",
            "\n",
            "Running Validation...\n",
            "  Accuracy: 0.44\n",
            "  Validation took: 0:00:09\n",
            "\n",
            "======== Epoch 8 / 8 ========\n",
            "Training...\n",
            "\n",
            "  Average training loss: 1.25\n",
            "  Training epoch took: 0:00:01\n",
            "\n",
            "Running Validation...\n",
            "  Accuracy: 0.45\n",
            "  Validation took: 0:00:09\n",
            "\n",
            "Training complete!\n",
            "Original:   i would like to find a flight from charlotte to las vegas that makes a stop in st. louis\n",
            "Token IDs: [101, 1045, 2052, 2066, 2000, 2424, 1037, 3462, 2013, 5904, 2000, 5869, 7136, 2008, 3084, 1037, 2644, 1999, 2358, 1012, 3434, 102]\n",
            "Predicting labels for 800 test sentences...\n",
            "F1-Score:  0.21516067937438904\n",
            "Recall:  0.208904711673699\n",
            "Precision:  0.23830128205128204\n",
            "MCC:  0.2141295388976932\n"
          ],
          "name": "stdout"
        }
      ]
    },
    {
      "cell_type": "code",
      "metadata": {
        "id": "eyqnG_oZ02gZ"
      },
      "source": [
        "shots_res = [shot_1, shot_2, shot_5, shot_10, shot_20]\n",
        "shots = [1, 2, 5, 10, 20]"
      ],
      "execution_count": 88,
      "outputs": []
    },
    {
      "cell_type": "code",
      "metadata": {
        "id": "Dkadpz5K5_Co"
      },
      "source": [
        "f_scores = [elem[0] for elem in shots_res]\n",
        "recalls = [elem[1] for elem in shots_res]\n",
        "precissions = [elem[2] for elem in shots_res]\n",
        "mccs = [elem[3] for elem in shots_res]"
      ],
      "execution_count": 89,
      "outputs": []
    },
    {
      "cell_type": "code",
      "metadata": {
        "id": "cPqSeWbU4pki",
        "outputId": "ff8e1231-d46a-40a5-d323-cad1cc48187b",
        "colab": {
          "base_uri": "https://localhost:8080/",
          "height": 834
        }
      },
      "source": [
        "fig, axs = plt.subplots(2, 2, figsize=(20,16))\n",
        "axs[0, 0].plot(shots, f_scores)\n",
        "axs[0, 0].set_title('F-score')\n",
        "axs[0, 1].plot(shots, recalls, 'tab:orange')\n",
        "axs[0, 1].set_title('Recall')\n",
        "axs[1, 0].plot(shots, precissions, 'tab:green')\n",
        "axs[1, 0].set_title('Precission')\n",
        "axs[1, 1].plot(shots, mccs, 'tab:red')\n",
        "axs[1, 1].set_title('MCC')"
      ],
      "execution_count": 94,
      "outputs": [
        {
          "output_type": "execute_result",
          "data": {
            "text/plain": [
              "Text(0.5, 1.0, 'MCC')"
            ]
          },
          "metadata": {
            "tags": []
          },
          "execution_count": 94
        },
        {
          "output_type": "display_data",
          "data": {
            "image/png": "[encoded data removed]",
            "text/plain": [
              "<Figure size 1440x1152 with 4 Axes>"
            ]
          },
          "metadata": {
            "tags": [],
            "needs_background": "light"
          }
        }
      ]
    },
    {
      "cell_type": "code",
      "metadata": {
        "id": "vzFyMdLq6_ho"
      },
      "source": [
        ""
      ],
      "execution_count": null,
      "outputs": []
    }
  ]
}