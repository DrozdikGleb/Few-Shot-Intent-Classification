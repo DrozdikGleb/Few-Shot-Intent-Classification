{
 "cells": [
  {
   "cell_type": "code",
   "execution_count": 14,
   "id": "8a1d0dbe",
   "metadata": {},
   "outputs": [],
   "source": [
    "import pandas as pd\n",
    "import numpy as np\n",
    "import nlpaug.augmenter.word as naw\n",
    "\n",
    "from tqdm import tqdm\n",
    "from gensim.models import KeyedVectors"
   ]
  },
  {
   "cell_type": "code",
   "execution_count": 2,
   "id": "40b2af0c",
   "metadata": {},
   "outputs": [],
   "source": [
    "def read_sent_and_labels(path):\n",
    "    labels = []\n",
    "    msgs = []\n",
    "    with open(f'{path}/label', \"r\") as labels_file:\n",
    "        for line in labels_file:\n",
    "            labels.append(line.strip())\n",
    "\n",
    "    with open(f'{path}/seq.in', \"r\") as msgs_file:\n",
    "        for line in msgs_file:\n",
    "            msgs.append(line.strip())\n",
    "\n",
    "    return msgs, labels"
   ]
  },
  {
   "cell_type": "code",
   "execution_count": 3,
   "id": "3dc13d87",
   "metadata": {},
   "outputs": [],
   "source": [
    "msgs_10, labels_10 = read_sent_and_labels(\"./data/banking77/train_10\")"
   ]
  },
  {
   "cell_type": "code",
   "execution_count": 4,
   "id": "49003028",
   "metadata": {},
   "outputs": [],
   "source": [
    "def make_aug(msgs, labels, aug_method, num_gens=1):\n",
    "    new_msgs = []\n",
    "    new_lbls = []\n",
    "    for msg, lbl in tqdm(zip(msgs, labels), total=len(msgs)):\n",
    "        for _ in range(num_gens):\n",
    "            new_msgs.append(aug_method.augment(msg))\n",
    "            new_lbls.append(lbl)\n",
    "    \n",
    "    return (new_msgs, new_lbls)"
   ]
  },
  {
   "cell_type": "code",
   "execution_count": 5,
   "id": "d0355f77",
   "metadata": {},
   "outputs": [],
   "source": [
    "import os\n",
    "def save_sent_and_labels(path, labels, msgs):\n",
    "    if not os.path.exists(path):\n",
    "        os.makedirs(path)\n",
    "    with open(f'{path}/label', \"w\") as labels_file:\n",
    "        for line in labels:\n",
    "            labels_file.write(f\"{line}\\n\")\n",
    "  \n",
    "    with open(f'{path}/seq.in', \"w\") as msgs_file:\n",
    "        for line in msgs:\n",
    "            msgs_file.write(f\"{line}\\n\")"
   ]
  },
  {
   "cell_type": "markdown",
   "id": "ffddedd8",
   "metadata": {},
   "source": [
    "# Random swap (RS)"
   ]
  },
  {
   "cell_type": "code",
   "execution_count": 33,
   "id": "d34f9228",
   "metadata": {},
   "outputs": [],
   "source": [
    "random_swp_aug = naw.RandomWordAug(action=\"swap\")"
   ]
  },
  {
   "cell_type": "code",
   "execution_count": 34,
   "id": "8053c92b",
   "metadata": {},
   "outputs": [
    {
     "name": "stderr",
     "output_type": "stream",
     "text": [
      "100%|█████████████████████████████████████████████████████████████████████████████████████████████████████████████████████████████████████████████████████████████████████████████████████████████████████| 770/770 [00:00<00:00, 9993.89it/s]\n"
     ]
    }
   ],
   "source": [
    "rs_new = make_aug(msgs_10, labels_10, random_swp_aug)"
   ]
  },
  {
   "cell_type": "code",
   "execution_count": 43,
   "id": "44669321",
   "metadata": {},
   "outputs": [],
   "source": [
    "save_sent_and_labels(\"./data/random_swap\", rs_new[1], rs_new[0])"
   ]
  },
  {
   "cell_type": "markdown",
   "id": "3ceebeef",
   "metadata": {},
   "source": [
    "# Random delete (RD)"
   ]
  },
  {
   "cell_type": "code",
   "execution_count": 35,
   "id": "6b0fd645",
   "metadata": {},
   "outputs": [],
   "source": [
    "random_del_aug = naw.RandomWordAug(action=\"delete\")"
   ]
  },
  {
   "cell_type": "code",
   "execution_count": 36,
   "id": "4b6cff60",
   "metadata": {
    "scrolled": true
   },
   "outputs": [
    {
     "name": "stderr",
     "output_type": "stream",
     "text": [
      "100%|████████████████████████████████████████████████████████████████████████████████████████████████████████████████████████████████████████████████████████████████████████████████████████████████████| 770/770 [00:00<00:00, 12784.17it/s]\n"
     ]
    }
   ],
   "source": [
    "rd_new = make_aug(msgs_10, labels_10, random_del_aug)"
   ]
  },
  {
   "cell_type": "code",
   "execution_count": 44,
   "id": "7d9952a8",
   "metadata": {},
   "outputs": [],
   "source": [
    "save_sent_and_labels(\"./data/random_delete\", rd_new[1], rd_new[0])"
   ]
  },
  {
   "cell_type": "markdown",
   "id": "aeaeaa6c",
   "metadata": {},
   "source": [
    "# Contextual Replacement (RoBERT)"
   ]
  },
  {
   "cell_type": "code",
   "execution_count": 37,
   "id": "445f2fee",
   "metadata": {},
   "outputs": [
    {
     "data": {
      "application/vnd.jupyter.widget-view+json": {
       "model_id": "bf3f17c5d0d841d39f7c66e1ca0c6adb",
       "version_major": 2,
       "version_minor": 0
      },
      "text/plain": [
       "HBox(children=(IntProgress(value=0, description='Downloading', max=481, style=ProgressStyle(description_width=…"
      ]
     },
     "metadata": {},
     "output_type": "display_data"
    },
    {
     "name": "stdout",
     "output_type": "stream",
     "text": [
      "\n"
     ]
    },
    {
     "data": {
      "application/vnd.jupyter.widget-view+json": {
       "model_id": "c5d35773db1a47aebc4e4910c30fcabf",
       "version_major": 2,
       "version_minor": 0
      },
      "text/plain": [
       "HBox(children=(IntProgress(value=0, description='Downloading', max=898823, style=ProgressStyle(description_wid…"
      ]
     },
     "metadata": {},
     "output_type": "display_data"
    },
    {
     "name": "stdout",
     "output_type": "stream",
     "text": [
      "\n"
     ]
    },
    {
     "data": {
      "application/vnd.jupyter.widget-view+json": {
       "model_id": "7276a3ce30aa472a9316aa5657f34f74",
       "version_major": 2,
       "version_minor": 0
      },
      "text/plain": [
       "HBox(children=(IntProgress(value=0, description='Downloading', max=456318, style=ProgressStyle(description_wid…"
      ]
     },
     "metadata": {},
     "output_type": "display_data"
    },
    {
     "name": "stdout",
     "output_type": "stream",
     "text": [
      "\n"
     ]
    },
    {
     "data": {
      "application/vnd.jupyter.widget-view+json": {
       "model_id": "438e5d961c814b45bf5481e6f3aa53b9",
       "version_major": 2,
       "version_minor": 0
      },
      "text/plain": [
       "HBox(children=(IntProgress(value=0, description='Downloading', max=1355863, style=ProgressStyle(description_wi…"
      ]
     },
     "metadata": {},
     "output_type": "display_data"
    },
    {
     "name": "stdout",
     "output_type": "stream",
     "text": [
      "\n"
     ]
    },
    {
     "data": {
      "application/vnd.jupyter.widget-view+json": {
       "model_id": "79a06abcba274922ad9bc9bd21f9cfc6",
       "version_major": 2,
       "version_minor": 0
      },
      "text/plain": [
       "HBox(children=(IntProgress(value=0, description='Downloading', max=501200538, style=ProgressStyle(description_…"
      ]
     },
     "metadata": {},
     "output_type": "display_data"
    },
    {
     "name": "stdout",
     "output_type": "stream",
     "text": [
      "\n"
     ]
    }
   ],
   "source": [
    "contextual_replace_aug = naw.ContextualWordEmbsAug(model_path='roberta-base', action=\"substitute\")"
   ]
  },
  {
   "cell_type": "code",
   "execution_count": 38,
   "id": "71b43e74",
   "metadata": {},
   "outputs": [
    {
     "name": "stderr",
     "output_type": "stream",
     "text": [
      "100%|███████████████████████████████████████████████████████████████████████████████████████████████████████████████████████████████████████████████████████████████████████████████████████████████████████| 770/770 [01:01<00:00, 12.52it/s]\n"
     ]
    }
   ],
   "source": [
    "context_replace_new = make_aug(msgs_10, labels_10, contextual_replace_aug)"
   ]
  },
  {
   "cell_type": "code",
   "execution_count": 45,
   "id": "72ded0b5",
   "metadata": {},
   "outputs": [],
   "source": [
    "save_sent_and_labels(\"./data/contextual_replacement\", context_replace_new[1], context_replace_new[0])"
   ]
  },
  {
   "cell_type": "markdown",
   "id": "1647a3d5",
   "metadata": {},
   "source": [
    "# Synonym Replacement (WordNet)"
   ]
  },
  {
   "cell_type": "code",
   "execution_count": 46,
   "id": "926ab71a",
   "metadata": {},
   "outputs": [
    {
     "name": "stderr",
     "output_type": "stream",
     "text": [
      "[nltk_data] Downloading package averaged_perceptron_tagger to\n",
      "[nltk_data]     /home/gdrozdov/nltk_data...\n",
      "[nltk_data]   Package averaged_perceptron_tagger is already up-to-\n",
      "[nltk_data]       date!\n",
      "[nltk_data] Downloading package wordnet to /home/gdrozdov/nltk_data...\n",
      "[nltk_data]   Package wordnet is already up-to-date!\n",
      "[nltk_data] Downloading package omw-1.4 to /home/gdrozdov/nltk_data...\n",
      "[nltk_data]   Package omw-1.4 is already up-to-date!\n"
     ]
    },
    {
     "data": {
      "text/plain": [
       "True"
      ]
     },
     "execution_count": 46,
     "metadata": {},
     "output_type": "execute_result"
    }
   ],
   "source": [
    "import nltk\n",
    "nltk.download('averaged_perceptron_tagger')\n",
    "nltk.download('wordnet')\n",
    "nltk.download('omw-1.4')"
   ]
  },
  {
   "cell_type": "code",
   "execution_count": 47,
   "id": "052b12cb",
   "metadata": {},
   "outputs": [],
   "source": [
    "synonym_replacement_aug = naw.SynonymAug(aug_src='wordnet')"
   ]
  },
  {
   "cell_type": "code",
   "execution_count": 48,
   "id": "7ae0501d",
   "metadata": {},
   "outputs": [
    {
     "name": "stderr",
     "output_type": "stream",
     "text": [
      "100%|██████████████████████████████████████████████████████████████████████████████████████████████████████████████████████████████████████████████████████████████████████████████████████████████████████| 770/770 [00:05<00:00, 152.19it/s]\n"
     ]
    }
   ],
   "source": [
    "synonym_replace_new = make_aug(msgs_10, labels_10, synonym_replacement_aug)"
   ]
  },
  {
   "cell_type": "code",
   "execution_count": 50,
   "id": "8a2e1646",
   "metadata": {},
   "outputs": [],
   "source": [
    "save_sent_and_labels(\"./data/synonym_replace\", synonym_replace_new[1], synonym_replace_new[0])"
   ]
  },
  {
   "cell_type": "markdown",
   "id": "46b8746c",
   "metadata": {},
   "source": [
    "# Word Replacement (Word2Vec)"
   ]
  },
  {
   "cell_type": "code",
   "execution_count": 23,
   "id": "6be4babe",
   "metadata": {},
   "outputs": [
    {
     "name": "stdout",
     "output_type": "stream",
     "text": [
      "Downloading...\n",
      "From: https://drive.google.com/uc?id=0B7XkCwpI5KDYNlNUTTlSS21pQmM\n",
      "To: /home/gdrozdov/diploma/Text-Augmentation/data/GoogleNews-vectors-negative300.bin.gz\n",
      "100%|██████████████████████████████████████| 1.65G/1.65G [00:16<00:00, 98.7MB/s]\n"
     ]
    }
   ],
   "source": [
    "!gdown 0B7XkCwpI5KDYNlNUTTlSS21pQmM -O ./data/\n",
    "!wget https://nlp.stanford.edu/data/glove.840B.300d.zip -O data/glove.840B.300d.zip"
   ]
  },
  {
   "cell_type": "code",
   "execution_count": 20,
   "id": "9ab03c3f",
   "metadata": {},
   "outputs": [
    {
     "name": "stdout",
     "output_type": "stream",
     "text": [
      "--2022-05-10 14:58:12--  https://nlp.stanford.edu/data/glove.6B.zip\n",
      "Resolving nlp.stanford.edu (nlp.stanford.edu)... 171.64.67.140\n",
      "Connecting to nlp.stanford.edu (nlp.stanford.edu)|171.64.67.140|:443... connected.\n",
      "HTTP request sent, awaiting response... 301 Moved Permanently\n",
      "Location: http://downloads.cs.stanford.edu/nlp/data/glove.6B.zip [following]\n",
      "--2022-05-10 14:58:13--  http://downloads.cs.stanford.edu/nlp/data/glove.6B.zip\n",
      "Resolving downloads.cs.stanford.edu (downloads.cs.stanford.edu)... 171.64.64.22\n",
      "Connecting to downloads.cs.stanford.edu (downloads.cs.stanford.edu)|171.64.64.22|:80... connected.\n",
      "HTTP request sent, awaiting response... 200 OK\n",
      "Length: 862182613 (822M) [application/zip]\n",
      "Saving to: ‘data/glove.6B.zip’\n",
      "\n",
      "data/glove.6B.zip   100%[===================>] 822.24M  5.17MB/s    in 2m 42s  \n",
      "\n",
      "2022-05-10 15:00:55 (5.07 MB/s) - ‘data/glove.6B.zip’ saved [862182613/862182613]\n",
      "\n"
     ]
    }
   ],
   "source": [
    "!wget https://nlp.stanford.edu/data/glove.6B.zip -O data/glove.6B.zip"
   ]
  },
  {
   "cell_type": "code",
   "execution_count": 11,
   "id": "8e9ef1b9",
   "metadata": {},
   "outputs": [],
   "source": [
    "!gzip -d data/GoogleNews-vectors-negative300.bin.gz"
   ]
  },
  {
   "cell_type": "code",
   "execution_count": 52,
   "id": "c6326b1b",
   "metadata": {},
   "outputs": [],
   "source": [
    "word_replacement_aug = naw.WordEmbsAug(\n",
    "    model_type='glove', \n",
    "    model_path='./glove.6B.200d.txt',\n",
    "    action=\"substitute\"\n",
    ")"
   ]
  },
  {
   "cell_type": "code",
   "execution_count": 53,
   "id": "8bf75522",
   "metadata": {},
   "outputs": [
    {
     "name": "stderr",
     "output_type": "stream",
     "text": [
      "100%|███████████████████████████████████████████████████████████████████████████████████████████████████████████████████████████████████████████████████████████████████████████████████████████████████████| 770/770 [00:29<00:00, 26.39it/s]\n"
     ]
    }
   ],
   "source": [
    "word_replace_new = make_aug(msgs_10, labels_10, word_replacement_aug)"
   ]
  },
  {
   "cell_type": "code",
   "execution_count": 54,
   "id": "51d08f81",
   "metadata": {},
   "outputs": [],
   "source": [
    "save_sent_and_labels(\"./data/glove_word_replace\", word_replace_new[1], word_replace_new[0])"
   ]
  },
  {
   "cell_type": "markdown",
   "id": "fbefb41c",
   "metadata": {},
   "source": [
    "# Back Translation"
   ]
  },
  {
   "cell_type": "code",
   "execution_count": 6,
   "id": "1d9583a1",
   "metadata": {
    "scrolled": true
   },
   "outputs": [],
   "source": [
    "back_translation_aug = naw.BackTranslationAug(\n",
    "    from_model_name='Helsinki-NLP/opus-mt-en-de', \n",
    "    to_model_name='Helsinki-NLP/opus-mt-de-en'\n",
    ")"
   ]
  },
  {
   "cell_type": "code",
   "execution_count": 7,
   "id": "ac948276",
   "metadata": {},
   "outputs": [
    {
     "name": "stderr",
     "output_type": "stream",
     "text": [
      "100%|███████████████████████████████████████████████████████████████████████████████████████████████████████████████████████████████████████████████████████████████████████████████████████████████████████| 770/770 [07:15<00:00,  1.47it/s]\n"
     ]
    }
   ],
   "source": [
    "back_translation_new = make_aug(msgs_10, labels_10, back_translation_aug)"
   ]
  },
  {
   "cell_type": "code",
   "execution_count": 9,
   "id": "c95c5631",
   "metadata": {},
   "outputs": [],
   "source": [
    "save_sent_and_labels(\"./data/back_translation\", back_translation_new[1], back_translation_new[0])"
   ]
  },
  {
   "cell_type": "markdown",
   "id": "d6d7b8c0",
   "metadata": {},
   "source": [
    "# GPT-2 Generatioon"
   ]
  },
  {
   "cell_type": "code",
   "execution_count": 15,
   "id": "ec032157",
   "metadata": {},
   "outputs": [],
   "source": [
    "import csv\n",
    "import os\n",
    "import argparse\n",
    "import torch\n",
    "from transformers import GPT2Tokenizer, GPT2LMHeadModel\n",
    "import numpy as np\n",
    "from torch.utils.data import Dataset, DataLoader\n",
    "from transformers import AdamW, get_cosine_with_hard_restarts_schedule_with_warmup\n",
    "import warnings\n",
    "warnings.filterwarnings('ignore')"
   ]
  },
  {
   "cell_type": "code",
   "execution_count": 19,
   "id": "12be179b",
   "metadata": {},
   "outputs": [],
   "source": [
    "import pandas as pd"
   ]
  },
  {
   "cell_type": "code",
   "execution_count": 20,
   "id": "3e2c5842",
   "metadata": {},
   "outputs": [],
   "source": [
    "df = pd.DataFrame({'intent': labels_10, 'message': msgs_10})"
   ]
  },
  {
   "cell_type": "code",
   "execution_count": 22,
   "id": "541d06b9",
   "metadata": {},
   "outputs": [],
   "source": [
    "df.to_csv('./data/banking77.csv', index=False)"
   ]
  },
  {
   "cell_type": "code",
   "execution_count": 23,
   "id": "aabb8c89",
   "metadata": {},
   "outputs": [],
   "source": [
    "class MyDataset(Dataset):\n",
    "    def __init__(self, data_file_name, data_dir='.data/'):\n",
    "        super().__init__()\n",
    "\n",
    "        data_path = os.path.join(data_file_name)\n",
    "\n",
    "        self.data_list = []\n",
    "        self.end_of_text_token = \" <|endoftext|> \"\n",
    "        \n",
    "        with open(data_path) as csv_file:\n",
    "            csv_reader = csv.reader(csv_file)\n",
    "            \n",
    "            for row in csv_reader:\n",
    "                data_str = f\"{row[0]}: {row[1]}{self.end_of_text_token}\"\n",
    "                self.data_list.append(data_str)\n",
    "        \n",
    "    def __len__(self):\n",
    "        return len(self.data_list)\n",
    "\n",
    "    def __getitem__(self, item):\n",
    "        return self.data_list[item]"
   ]
  },
  {
   "cell_type": "code",
   "execution_count": 24,
   "id": "f794c737",
   "metadata": {},
   "outputs": [],
   "source": [
    "def get_data_loader(data_file_name):\n",
    "    dataset = MyDataset(data_file_name)\n",
    "    data_loader = DataLoader(dataset, batch_size=1, shuffle=True)\n",
    "    return data_loader"
   ]
  },
  {
   "cell_type": "code",
   "execution_count": 30,
   "id": "7cc0b2ae",
   "metadata": {},
   "outputs": [],
   "source": [
    "def train(epochs, data_loader, batch_size, tokenizer, model, device):\t\n",
    "    batch_counter = 0\n",
    "    sum_loss = 0.0\n",
    "\n",
    "    for epoch in range(epochs):\n",
    "        print (f'Running {epoch+1} epoch')\n",
    "\n",
    "        for idx, txt in enumerate(data_loader):\n",
    "            txt = torch.tensor(tokenizer.encode(txt[0]))\n",
    "            txt = txt.unsqueeze(0).to(device)\n",
    "            outputs = model(txt, labels=txt)\n",
    "            loss, _ = outputs[:2]\n",
    "            loss.backward()\n",
    "            sum_loss += loss.data\n",
    "\n",
    "            if idx%batch_size==0:\n",
    "                batch_counter += 1\n",
    "                optimizer.step()\n",
    "                scheduler.step()\n",
    "                optimizer.zero_grad()\n",
    "                model.zero_grad()\n",
    "\n",
    "            if batch_counter == 10:\n",
    "                print(f\"Total Loss is {sum_loss}\") #printed after every 10*batch_size\n",
    "                batch_counter = 0\n",
    "                sum_loss = 0.0\n",
    "\n",
    "    return model\n",
    "\n",
    "def save_model(model, name):\n",
    "    \"\"\"\n",
    "    Summary:\n",
    "        Saving model to the Disk\n",
    "    Parameters:\n",
    "        model: Trained model object\n",
    "        name: Name of the model to be saved\n",
    "    \"\"\"\n",
    "    print(\"Saving model to Disk\")\n",
    "    torch.save(model.state_dict(), f\"{name}.pt\")\n",
    "    return\n",
    "\n",
    "def load_models():\n",
    "    \"\"\"\n",
    "    Summary:\n",
    "        Loading Pre-trained model\n",
    "    \"\"\"\n",
    "    print('Loading/Downloading GPT-2 Model')\n",
    "    tokenizer = GPT2Tokenizer.from_pretrained('gpt2-medium')\n",
    "    model = GPT2LMHeadModel.from_pretrained('gpt2-medium')\n",
    "    return tokenizer, model"
   ]
  },
  {
   "cell_type": "code",
   "execution_count": 33,
   "id": "0bc8ac78",
   "metadata": {
    "scrolled": true
   },
   "outputs": [
    {
     "name": "stdout",
     "output_type": "stream",
     "text": [
      "Loading/Downloading GPT-2 Model\n"
     ]
    }
   ],
   "source": [
    "BATCH_SIZE = 32\n",
    "EPOCHS = 10\n",
    "LEARNING_RATE = 3e-5\n",
    "WARMUP_STEPS = 300\n",
    "MAX_SEQ_LEN = 200\n",
    "MODEL_NAME = \"banking77.pt\"\n",
    "DATA_FILE = \"./data/banking77.csv\"\n",
    "\n",
    "TOKENIZER, MODEL = load_models()\n",
    "LOADER = get_data_loader(DATA_FILE)\n",
    "\n",
    "DEVICE = 'cpu'\n",
    "if torch.cuda.is_available():\n",
    "    DEVICE = 'cuda'\n",
    "\n",
    "model = MODEL.to(DEVICE)\n",
    "model.train()\n",
    "optimizer = AdamW(model.parameters(), lr=LEARNING_RATE)\n",
    "scheduler = get_cosine_with_hard_restarts_schedule_with_warmup(optimizer, num_warmup_steps=WARMUP_STEPS, num_training_steps=-1)"
   ]
  },
  {
   "cell_type": "code",
   "execution_count": 34,
   "id": "3aff0952",
   "metadata": {},
   "outputs": [
    {
     "name": "stdout",
     "output_type": "stream",
     "text": [
      "Running 1 epoch\n",
      "Total Loss is 1433.6307373046875\n",
      "Total Loss is 1501.3101806640625\n",
      "Running 2 epoch\n",
      "Total Loss is 1274.2281494140625\n",
      "Total Loss is 1260.2935791015625\n",
      "Total Loss is 1080.64599609375\n",
      "Running 3 epoch\n",
      "Total Loss is 820.4241333007812\n",
      "Total Loss is 798.3790893554688\n",
      "Running 4 epoch\n",
      "Total Loss is 642.8914794921875\n",
      "Total Loss is 658.754638671875\n",
      "Total Loss is 634.7021484375\n",
      "Running 5 epoch\n",
      "Total Loss is 534.4229736328125\n",
      "Total Loss is 566.64697265625\n",
      "Running 6 epoch\n",
      "Total Loss is 484.8356018066406\n",
      "Total Loss is 492.71929931640625\n",
      "Total Loss is 483.59454345703125\n",
      "Running 7 epoch\n",
      "Total Loss is 410.1628723144531\n",
      "Total Loss is 436.7789001464844\n",
      "Running 8 epoch\n",
      "Total Loss is 381.4982604980469\n",
      "Total Loss is 404.4756774902344\n",
      "Total Loss is 403.80194091796875\n",
      "Running 9 epoch\n",
      "Total Loss is 334.16302490234375\n",
      "Total Loss is 371.2838134765625\n",
      "Running 10 epoch\n",
      "Total Loss is 344.3932189941406\n",
      "Total Loss is 343.9325866699219\n",
      "Total Loss is 347.8749084472656\n"
     ]
    }
   ],
   "source": [
    "model = train(EPOCHS, LOADER, BATCH_SIZE, TOKENIZER, MODEL, DEVICE)"
   ]
  },
  {
   "cell_type": "code",
   "execution_count": 35,
   "id": "db992f54",
   "metadata": {},
   "outputs": [
    {
     "name": "stdout",
     "output_type": "stream",
     "text": [
      "Saving model to Disk\n"
     ]
    }
   ],
   "source": [
    "save_model(model, MODEL_NAME)"
   ]
  },
  {
   "cell_type": "code",
   "execution_count": 59,
   "id": "553071f2",
   "metadata": {},
   "outputs": [],
   "source": [
    "def find_between( s, first, last ):\n",
    "    try:\n",
    "        start = s.index( first ) + len( first )\n",
    "        end = s.index( last, start )\n",
    "        return s[start:end]\n",
    "    except ValueError:\n",
    "        return \"\"\n",
    "\n",
    "def choose_from_top_k_top_n(probs, k=50, p=0.8):\n",
    "    ind = np.argpartition(probs, -k)[-k:]\n",
    "    top_prob = probs[ind]\n",
    "    top_prob = {i: top_prob[idx] for idx,i in enumerate(ind)}\n",
    "    sorted_top_prob = {k: v for k, v in sorted(top_prob.items(), key=lambda item: item[1], reverse=True)}\n",
    "\n",
    "    t=0\n",
    "    f=[]\n",
    "    pr = []\n",
    "    for k,v in sorted_top_prob.items():\n",
    "        t+=v\n",
    "        f.append(k)\n",
    "        pr.append(v)\n",
    "        if t>=p:\n",
    "            break\n",
    "    top_prob = pr / np.sum(pr)\n",
    "    token_id = np.random.choice(f, 1, p = top_prob)\n",
    "\n",
    "    return int(token_id)\n",
    "\n",
    "def generate(tokenizer, model, sentences, label):\n",
    "    res = []\n",
    "    with torch.no_grad():\n",
    "        for idx in range(sentences):\n",
    "            finished = False\n",
    "            cur_ids = torch.tensor(tokenizer.encode(label)).unsqueeze(0).to('cpu')\n",
    "            for i in range(100):\n",
    "                outputs = model(cur_ids, labels=cur_ids)\n",
    "                loss, logits = outputs[:2]\n",
    "\n",
    "                softmax_logits = torch.softmax(logits[0,-1], dim=0)\n",
    "\n",
    "                if i < 5:\n",
    "                    n = 10\n",
    "                else:\n",
    "                    n = 5\n",
    "\n",
    "                next_token_id = choose_from_top_k_top_n(softmax_logits.to('cpu').numpy()) #top-k-top-n sampling\n",
    "                cur_ids = torch.cat([cur_ids, torch.ones((1,1)).long().to('cpu') * next_token_id], dim = 1)\n",
    "\n",
    "                if next_token_id in tokenizer.encode('<|endoftext|>'):\n",
    "                    finished = True\n",
    "                    break\n",
    "\n",
    "            if finished:        \n",
    "                output_list = list(cur_ids.squeeze().to('cpu').numpy())\n",
    "                output_text = tokenizer.decode(output_list)\n",
    "                res.append(find_between(output_text, \": \", \" <|endoftext|>\"))\n",
    "            else:\n",
    "                output_list = list(cur_ids.squeeze().to('cpu').numpy())\n",
    "                output_text = tokenizer.decode(output_list)\n",
    "                res.append(find_between(output_text, \": \", \" <|endoftext|>\"))\n",
    "    \n",
    "    return res\n",
    "\n",
    "def load_models(model_name):\n",
    "    \"\"\"\n",
    "    Summary:\n",
    "        Loading the trained model\n",
    "    \"\"\"\n",
    "    print ('Loading Trained GPT-2 Model')\n",
    "    tokenizer = GPT2Tokenizer.from_pretrained('gpt2-medium')\n",
    "    model = GPT2LMHeadModel.from_pretrained('gpt2-medium')\n",
    "    model_path = model_name\n",
    "    model.load_state_dict(torch.load(model_path))\n",
    "    return tokenizer, model"
   ]
  },
  {
   "cell_type": "code",
   "execution_count": 60,
   "id": "a9fb0e02",
   "metadata": {},
   "outputs": [
    {
     "name": "stdout",
     "output_type": "stream",
     "text": [
      "Loading Trained GPT-2 Model\n"
     ]
    }
   ],
   "source": [
    "SENTENCES = 10\n",
    "MODEL_NAME = \"./banking77.pt.pt\"\n",
    "LABEL = \"activate_my_card\" # LABEL = \"atis_flight\"\n",
    "\n",
    "TOKENIZER, MODEL = load_models(MODEL_NAME)"
   ]
  },
  {
   "cell_type": "code",
   "execution_count": 63,
   "id": "7bb7d86d",
   "metadata": {},
   "outputs": [],
   "source": [
    "uniq_labels = set(labels_10)"
   ]
  },
  {
   "cell_type": "code",
   "execution_count": 68,
   "id": "e6d47d4d",
   "metadata": {},
   "outputs": [],
   "source": [
    "gpt2_lbls, gpt2_msgs = [], [] "
   ]
  },
  {
   "cell_type": "code",
   "execution_count": null,
   "id": "b5d2a73a",
   "metadata": {
    "scrolled": true
   },
   "outputs": [
    {
     "name": "stderr",
     "output_type": "stream",
     "text": [
      "\n",
      "  0%|                                                                                                                                                                                                                  | 0/77 [00:00<?, ?it/s]\u001b[A\n",
      "  1%|██▌                                                                                                                                                                                                       | 1/77 [00:06<07:56,  6.28s/it]\u001b[A\n",
      "  3%|█████▏                                                                                                                                                                                                    | 2/77 [00:12<07:49,  6.26s/it]\u001b[A\n",
      "  4%|███████▊                                                                                                                                                                                                  | 3/77 [00:18<07:31,  6.10s/it]\u001b[A\n",
      "  5%|██████████▍                                                                                                                                                                                               | 4/77 [00:26<08:08,  6.69s/it]\u001b[A\n",
      "  6%|█████████████                                                                                                                                                                                             | 5/77 [00:32<07:53,  6.57s/it]\u001b[A\n",
      "  8%|███████████████▋                                                                                                                                                                                          | 6/77 [00:37<07:20,  6.20s/it]\u001b[A\n",
      "  9%|██████████████████▎                                                                                                                                                                                       | 7/77 [00:47<08:22,  7.17s/it]\u001b[A\n",
      " 10%|████████████████████▉                                                                                                                                                                                     | 8/77 [00:52<07:40,  6.67s/it]\u001b[A\n",
      " 12%|███████████████████████▌                                                                                                                                                                                  | 9/77 [01:06<10:00,  8.83s/it]\u001b[A\n",
      " 13%|██████████████████████████                                                                                                                                                                               | 10/77 [01:13<09:18,  8.33s/it]\u001b[A\n",
      " 14%|████████████████████████████▋                                                                                                                                                                            | 11/77 [01:27<10:53,  9.90s/it]\u001b[A\n",
      " 16%|███████████████████████████████▎                                                                                                                                                                         | 12/77 [01:31<08:55,  8.24s/it]\u001b[A\n",
      " 17%|█████████████████████████████████▉                                                                                                                                                                       | 13/77 [01:40<08:46,  8.22s/it]\u001b[A\n",
      " 18%|████████████████████████████████████▌                                                                                                                                                                    | 14/77 [01:57<11:33, 11.01s/it]\u001b[A\n",
      " 19%|███████████████████████████████████████▏                                                                                                                                                                 | 15/77 [02:07<11:01, 10.66s/it]\u001b[A\n",
      " 21%|█████████████████████████████████████████▊                                                                                                                                                               | 16/77 [02:13<09:19,  9.18s/it]\u001b[A\n",
      " 22%|████████████████████████████████████████████▍                                                                                                                                                            | 17/77 [02:20<08:47,  8.80s/it]\u001b[A\n",
      " 23%|██████████████████████████████████████████████▉                                                                                                                                                          | 18/77 [02:26<07:34,  7.70s/it]\u001b[A\n",
      " 25%|█████████████████████████████████████████████████▌                                                                                                                                                       | 19/77 [02:43<10:10, 10.52s/it]\u001b[A\n",
      " 26%|████████████████████████████████████████████████████▏                                                                                                                                                    | 20/77 [02:49<08:52,  9.34s/it]\u001b[A\n",
      " 27%|██████████████████████████████████████████████████████▊                                                                                                                                                  | 21/77 [02:57<08:10,  8.75s/it]\u001b[A\n",
      " 29%|█████████████████████████████████████████████████████████▍                                                                                                                                               | 22/77 [03:07<08:22,  9.14s/it]\u001b[A\n",
      " 30%|████████████████████████████████████████████████████████████                                                                                                                                             | 23/77 [03:12<07:05,  7.87s/it]\u001b[A\n",
      " 31%|██████████████████████████████████████████████████████████████▋                                                                                                                                          | 24/77 [03:19<06:50,  7.75s/it]\u001b[A\n",
      " 32%|█████████████████████████████████████████████████████████████████▎                                                                                                                                       | 25/77 [03:33<08:25,  9.72s/it]\u001b[A\n",
      " 34%|███████████████████████████████████████████████████████████████████▊                                                                                                                                     | 26/77 [03:40<07:22,  8.68s/it]\u001b[A\n",
      " 35%|██████████████████████████████████████████████████████████████████████▍                                                                                                                                  | 27/77 [03:46<06:39,  7.99s/it]\u001b[A\n",
      " 36%|█████████████████████████████████████████████████████████████████████████                                                                                                                                | 28/77 [03:54<06:24,  7.84s/it]\u001b[A\n",
      " 38%|███████████████████████████████████████████████████████████████████████████▋                                                                                                                             | 29/77 [04:01<06:08,  7.68s/it]\u001b[A\n",
      " 39%|██████████████████████████████████████████████████████████████████████████████▎                                                                                                                          | 30/77 [04:10<06:15,  7.99s/it]\u001b[A\n",
      " 40%|████████████████████████████████████████████████████████████████████████████████▉                                                                                                                        | 31/77 [04:17<05:55,  7.73s/it]\u001b[A\n",
      " 42%|███████████████████████████████████████████████████████████████████████████████████▌                                                                                                                     | 32/77 [04:25<05:56,  7.92s/it]\u001b[A\n",
      " 43%|██████████████████████████████████████████████████████████████████████████████████████▏                                                                                                                  | 33/77 [04:36<06:26,  8.78s/it]\u001b[A\n",
      " 44%|████████████████████████████████████████████████████████████████████████████████████████▊                                                                                                                | 34/77 [04:43<05:54,  8.25s/it]\u001b[A\n",
      " 45%|███████████████████████████████████████████████████████████████████████████████████████████▎                                                                                                             | 35/77 [04:54<06:28,  9.25s/it]\u001b[A\n",
      " 47%|█████████████████████████████████████████████████████████████████████████████████████████████▉                                                                                                           | 36/77 [05:02<05:52,  8.61s/it]\u001b[A\n",
      " 48%|████████████████████████████████████████████████████████████████████████████████████████████████▌                                                                                                        | 37/77 [05:10<05:37,  8.44s/it]\u001b[A\n",
      " 49%|███████████████████████████████████████████████████████████████████████████████████████████████████▏                                                                                                     | 38/77 [05:23<06:29,  9.99s/it]\u001b[A\n",
      " 51%|█████████████████████████████████████████████████████████████████████████████████████████████████████▊                                                                                                   | 39/77 [05:30<05:38,  8.92s/it]\u001b[A\n",
      " 52%|████████████████████████████████████████████████████████████████████████████████████████████████████████▍                                                                                                | 40/77 [05:38<05:22,  8.72s/it]\u001b[A\n",
      " 53%|███████████████████████████████████████████████████████████████████████████████████████████████████████████                                                                                              | 41/77 [05:43<04:39,  7.75s/it]\u001b[A\n",
      " 55%|█████████████████████████████████████████████████████████████████████████████████████████████████████████████▋                                                                                           | 42/77 [05:48<04:01,  6.90s/it]\u001b[A\n",
      " 56%|████████████████████████████████████████████████████████████████████████████████████████████████████████████████▏                                                                                        | 43/77 [05:57<04:15,  7.51s/it]\u001b[A\n",
      " 57%|██████████████████████████████████████████████████████████████████████████████████████████████████████████████████▊                                                                                      | 44/77 [06:06<04:21,  7.94s/it]\u001b[A\n",
      " 58%|█████████████████████████████████████████████████████████████████████████████████████████████████████████████████████▍                                                                                   | 45/77 [06:17<04:38,  8.71s/it]\u001b[A\n",
      " 60%|████████████████████████████████████████████████████████████████████████████████████████████████████████████████████████                                                                                 | 46/77 [06:23<04:05,  7.93s/it]\u001b[A\n",
      " 61%|██████████████████████████████████████████████████████████████████████████████████████████████████████████████████████████▋                                                                              | 47/77 [06:34<04:27,  8.93s/it]\u001b[A\n",
      " 62%|█████████████████████████████████████████████████████████████████████████████████████████████████████████████████████████████▎                                                                           | 48/77 [06:42<04:14,  8.78s/it]\u001b[A\n",
      " 64%|███████████████████████████████████████████████████████████████████████████████████████████████████████████████████████████████▉                                                                         | 49/77 [06:48<03:38,  7.80s/it]\u001b[A\n",
      " 65%|██████████████████████████████████████████████████████████████████████████████████████████████████████████████████████████████████▌                                                                      | 50/77 [06:53<03:09,  7.03s/it]\u001b[A\n",
      " 66%|█████████████████████████████████████████████████████████████████████████████████████████████████████████████████████████████████████▏                                                                   | 51/77 [07:01<03:12,  7.40s/it]\u001b[A\n",
      " 68%|███████████████████████████████████████████████████████████████████████████████████████████████████████████████████████████████████████▋                                                                 | 52/77 [07:13<03:38,  8.76s/it]\u001b[A\n",
      " 69%|██████████████████████████████████████████████████████████████████████████████████████████████████████████████████████████████████████████▎                                                              | 53/77 [07:22<03:30,  8.75s/it]\u001b[A\n",
      " 70%|████████████████████████████████████████████████████████████████████████████████████████████████████████████████████████████████████████████▉                                                            | 54/77 [07:28<02:58,  7.77s/it]\u001b[A\n",
      " 71%|███████████████████████████████████████████████████████████████████████████████████████████████████████████████████████████████████████████████▌                                                         | 55/77 [07:34<02:43,  7.41s/it]\u001b[A\n",
      " 73%|██████████████████████████████████████████████████████████████████████████████████████████████████████████████████████████████████████████████████▏                                                      | 56/77 [07:44<02:53,  8.26s/it]\u001b[A\n",
      " 74%|████████████████████████████████████████████████████████████████████████████████████████████████████████████████████████████████████████████████████▊                                                    | 57/77 [07:54<02:54,  8.75s/it]\u001b[A\n",
      " 75%|███████████████████████████████████████████████████████████████████████████████████████████████████████████████████████████████████████████████████████▍                                                 | 58/77 [08:03<02:47,  8.80s/it]\u001b[A\n",
      " 77%|██████████████████████████████████████████████████████████████████████████████████████████████████████████████████████████████████████████████████████████                                               | 59/77 [08:12<02:37,  8.77s/it]\u001b[A\n",
      " 78%|████████████████████████████████████████████████████████████████████████████████████████████████████████████████████████████████████████████████████████████▌                                            | 60/77 [08:24<02:46,  9.82s/it]\u001b[A\n",
      " 79%|███████████████████████████████████████████████████████████████████████████████████████████████████████████████████████████████████████████████████████████████▏                                         | 61/77 [08:29<02:13,  8.34s/it]\u001b[A\n",
      " 81%|█████████████████████████████████████████████████████████████████████████████████████████████████████████████████████████████████████████████████████████████████▊                                       | 62/77 [08:37<02:01,  8.09s/it]\u001b[A\n",
      " 82%|████████████████████████████████████████████████████████████████████████████████████████████████████████████████████████████████████████████████████████████████████▍                                    | 63/77 [08:47<02:04,  8.89s/it]\u001b[A\n",
      " 83%|███████████████████████████████████████████████████████████████████████████████████████████████████████████████████████████████████████████████████████████████████████                                  | 64/77 [08:54<01:48,  8.32s/it]\u001b[A\n",
      " 84%|█████████████████████████████████████████████████████████████████████████████████████████████████████████████████████████████████████████████████████████████████████████▋                               | 65/77 [09:03<01:41,  8.45s/it]\u001b[A\n",
      " 86%|████████████████████████████████████████████████████████████████████████████████████████████████████████████████████████████████████████████████████████████████████████████▎                            | 66/77 [09:15<01:43,  9.38s/it]\u001b[A\n",
      " 87%|██████████████████████████████████████████████████████████████████████████████████████████████████████████████████████████████████████████████████████████████████████████████▉                          | 67/77 [09:21<01:23,  8.36s/it]\u001b[A\n",
      " 88%|█████████████████████████████████████████████████████████████████████████████████████████████████████████████████████████████████████████████████████████████████████████████████▌                       | 68/77 [09:29<01:15,  8.37s/it]\u001b[A\n",
      " 90%|████████████████████████████████████████████████████████████████████████████████████████████████████████████████████████████████████████████████████████████████████████████████████                     | 69/77 [09:37<01:05,  8.20s/it]\u001b[A\n",
      " 91%|██████████████████████████████████████████████████████████████████████████████████████████████████████████████████████████████████████████████████████████████████████████████████████▋                  | 70/77 [09:46<00:59,  8.48s/it]\u001b[A\n",
      " 92%|█████████████████████████████████████████████████████████████████████████████████████████████████████████████████████████████████████████████████████████████████████████████████████████▎               | 71/77 [10:00<01:01, 10.23s/it]\u001b[A"
     ]
    }
   ],
   "source": [
    "for lbl in tqdm(uniq_labels):\n",
    "    res = generate(TOKENIZER, MODEL, SENTENCES, lbl)\n",
    "    for cur in res:\n",
    "        gpt2_msgs.append(cur)\n",
    "        gpt2_lbls.append(lbl)"
   ]
  },
  {
   "cell_type": "code",
   "execution_count": 72,
   "id": "d132dccc",
   "metadata": {},
   "outputs": [
    {
     "data": {
      "text/plain": [
       "770"
      ]
     },
     "execution_count": 72,
     "metadata": {},
     "output_type": "execute_result"
    }
   ],
   "source": [
    "len(gpt2_msgs)"
   ]
  },
  {
   "cell_type": "code",
   "execution_count": 70,
   "id": "38e4cea1",
   "metadata": {},
   "outputs": [
    {
     "name": "stdout",
     "output_type": "stream",
     "text": [
      "1\n"
     ]
    }
   ],
   "source": [
    "print(1)"
   ]
  },
  {
   "cell_type": "code",
   "execution_count": 75,
   "id": "62f87048",
   "metadata": {},
   "outputs": [],
   "source": [
    "save_sent_and_labels(\"./data/gpt2_msgs\", gpt2_lbls, gpt2_msgs)"
   ]
  },
  {
   "cell_type": "code",
   "execution_count": 48,
   "id": "cedc83a1",
   "metadata": {},
   "outputs": [
    {
     "data": {
      "text/plain": [
       "['activate_my_card: i need to activate my card <|endoftext|>',\n",
       " 'activate_my_card: how do i activate my card? <|endoftext|>',\n",
       " 'activate_my_card: how do i activate my card? <|endoftext|>',\n",
       " 'activate_my_card: where can i find my new card? <|endoftext|>',\n",
       " 'activate_my_card: can i start using my card? <|endoftext|>',\n",
       " 'activate_my_card: can i have my card activated? <|endoftext|>',\n",
       " 'activate_my_card: i have activated my card. <|endoftext|>',\n",
       " 'activate_my_card: how do i activate my card? <|endoftext|>',\n",
       " 'activate_my_card: what is my option to activate my card? <|endoftext|>',\n",
       " 'activate_my_card: how can i activate my card? <|endoftext|>']"
      ]
     },
     "execution_count": 48,
     "metadata": {},
     "output_type": "execute_result"
    }
   ],
   "source": [
    "res"
   ]
  },
  {
   "cell_type": "code",
   "execution_count": null,
   "id": "96991b63",
   "metadata": {},
   "outputs": [],
   "source": []
  }
 ],
 "metadata": {
  "kernelspec": {
   "display_name": "Python 3 (ipykernel)",
   "language": "python",
   "name": "python3"
  },
  "language_info": {
   "codemirror_mode": {
    "name": "ipython",
    "version": 3
   },
   "file_extension": ".py",
   "mimetype": "text/x-python",
   "name": "python",
   "nbconvert_exporter": "python",
   "pygments_lexer": "ipython3",
   "version": "3.7.13"
  }
 },
 "nbformat": 4,
 "nbformat_minor": 5
}
